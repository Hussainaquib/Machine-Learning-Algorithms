{
 "cells": [
  {
   "cell_type": "code",
   "execution_count": 16,
   "id": "60709d40",
   "metadata": {},
   "outputs": [
    {
     "name": "stderr",
     "output_type": "stream",
     "text": [
      "C:\\Users\\91975\\anaconda3\\lib\\site-packages\\sklearn\\datasets\\_openml.py:932: FutureWarning: The default value of `parser` will change from `'liac-arff'` to `'auto'` in 1.4. You can set `parser='auto'` to silence this warning. Therefore, an `ImportError` will be raised from 1.4 if the dataset is dense and pandas is not installed. Note that the pandas parser may return different data types. See the Notes Section in fetch_openml's API doc for details.\n",
      "  warn(\n"
     ]
    },
    {
     "name": "stdout",
     "output_type": "stream",
     "text": [
      "Linear Regression\n",
      "Mean R2 Score: 0.20\n",
      "Mean MSE: 34.71\n",
      "\n",
      "Decision Tree Regressor\n",
      "Mean R2 Score: -0.12\n",
      "Mean MSE: 33.40\n",
      "\n",
      "Support Vector Regressor\n",
      "Mean R2 Score: -0.41\n",
      "Mean MSE: 72.26\n",
      "\n"
     ]
    }
   ],
   "source": [
    "from sklearn.datasets import fetch_openml\n",
    "import numpy as np\n",
    "from sklearn.linear_model import LinearRegression\n",
    "from sklearn.tree import DecisionTreeRegressor\n",
    "from sklearn.svm import SVR\n",
    "from sklearn.model_selection import cross_val_score\n",
    "from sklearn.metrics import mean_squared_error, r2_score\n",
    "\n",
    "# Load the Boston Housing dataset using fetch_openml\n",
    "boston = fetch_openml(name=\"boston\", version=1)\n",
    "\n",
    "# Extract data and target\n",
    "X, y = boston.data, boston.target\n",
    "X = np.array(X)\n",
    "y = np.array(y)\n",
    "\n",
    "\n",
    "# Create a list of estimators with their names\n",
    "estimators = [\n",
    "    ('Linear Regression', LinearRegression()),\n",
    "    ('Decision Tree Regressor', DecisionTreeRegressor()),\n",
    "    ('Support Vector Regressor', SVR())\n",
    "]\n",
    "\n",
    "for estimator_name, estimator in estimators:\n",
    "    scores = cross_val_score(estimator, X, y, scoring='r2', cv=10)\n",
    "    mse_scores = cross_val_score(estimator, X, y, scoring='neg_mean_squared_error', cv=10)\n",
    "    mse_scores = -mse_scores  # Convert negative MSE to positive\n",
    "\n",
    "    mean_r2 = np.mean(scores)\n",
    "    mean_mse = np.mean(mse_scores)\n",
    "\n",
    "    print(estimator_name)\n",
    "    print(f\"Mean R2 Score: {mean_r2:.2f}\")\n",
    "    print(f\"Mean MSE: {mean_mse:.2f}\")\n",
    "    print()\n"
   ]
  },
  {
   "cell_type": "code",
   "execution_count": 18,
   "id": "36d65f9d",
   "metadata": {},
   "outputs": [
    {
     "name": "stdout",
     "output_type": "stream",
     "text": [
      "(506, 13)\n",
      "(506,)\n"
     ]
    }
   ],
   "source": [
    "print(X.shape)\n",
    "print(y.shape)"
   ]
  },
  {
   "cell_type": "code",
   "execution_count": 17,
   "id": "c4b6472c",
   "metadata": {},
   "outputs": [
    {
     "name": "stdout",
     "output_type": "stream",
     "text": [
      "Voting Regressor 0.44\n"
     ]
    }
   ],
   "source": [
    "from sklearn.ensemble import VotingRegressor\n",
    "vr = VotingRegressor(estimators)  # Creating a Voting Regressor with the defined estimators\n",
    "scores = cross_val_score(vr, X, y, scoring='r2', cv=10)  # Cross-validation with R2 scoring\n",
    "print(\"Voting Regressor\", np.round(np.mean(scores), 2))  # Printing the mean R2 score\n"
   ]
  },
  {
   "cell_type": "code",
   "execution_count": 19,
   "id": "9d60dced",
   "metadata": {},
   "outputs": [
    {
     "name": "stdout",
     "output_type": "stream",
     "text": [
      "For i=1,j=1,k=1 0.44\n",
      "For i=1,j=1,k=2 0.36\n",
      "For i=1,j=1,k=3 0.27\n",
      "For i=1,j=2,k=1 0.43\n",
      "For i=1,j=2,k=2 0.38\n",
      "For i=1,j=2,k=3 0.29\n",
      "For i=1,j=3,k=1 0.39\n",
      "For i=1,j=3,k=2 0.38\n",
      "For i=1,j=3,k=3 0.31\n",
      "For i=2,j=1,k=1 0.46\n",
      "For i=2,j=1,k=2 0.42\n",
      "For i=2,j=1,k=3 0.34\n",
      "For i=2,j=2,k=1 0.43\n",
      "For i=2,j=2,k=2 0.45\n",
      "For i=2,j=2,k=3 0.4\n",
      "For i=2,j=3,k=1 0.43\n",
      "For i=2,j=3,k=2 0.42\n",
      "For i=2,j=3,k=3 0.41\n",
      "For i=3,j=1,k=1 0.45\n",
      "For i=3,j=1,k=2 0.43\n",
      "For i=3,j=1,k=3 0.39\n",
      "For i=3,j=2,k=1 0.39\n",
      "For i=3,j=2,k=2 0.46\n",
      "For i=3,j=2,k=3 0.43\n",
      "For i=3,j=3,k=1 0.36\n",
      "For i=3,j=3,k=2 0.45\n",
      "For i=3,j=3,k=3 0.44\n"
     ]
    }
   ],
   "source": [
    "for i in range(1,4):\n",
    "  for j in range(1,4):\n",
    "    for k in range(1,4):\n",
    "      vr = VotingRegressor(estimators,weights=[i,j,k])\n",
    "      scores = cross_val_score(vr,X,y,scoring='r2',cv=10)\n",
    "      print(\"For i={},j={},k={}\".format(i,j,k),np.round(np.mean(scores),2))"
   ]
  },
  {
   "cell_type": "code",
   "execution_count": 20,
   "id": "97741a53",
   "metadata": {},
   "outputs": [],
   "source": [
    "# using the same algorithm\n",
    "\n",
    "dt1 = DecisionTreeRegressor(max_depth=1)\n",
    "dt2 = DecisionTreeRegressor(max_depth=3)\n",
    "dt3 = DecisionTreeRegressor(max_depth=5)\n",
    "dt4 = DecisionTreeRegressor(max_depth=7)\n",
    "dt5 = DecisionTreeRegressor(max_depth=None)"
   ]
  },
  {
   "cell_type": "code",
   "execution_count": 21,
   "id": "1fdae055",
   "metadata": {},
   "outputs": [],
   "source": [
    "estimators = [('dt1',dt1),('dt2',dt2),('dt3',dt3),('dt4',dt4),('dt5',dt5)]"
   ]
  },
  {
   "cell_type": "code",
   "execution_count": 22,
   "id": "7c7535b8",
   "metadata": {},
   "outputs": [
    {
     "name": "stdout",
     "output_type": "stream",
     "text": [
      "dt1 -0.85\n",
      "dt2 -0.11\n",
      "dt3 -0.01\n",
      "dt4 0.06\n",
      "dt5 -0.32\n"
     ]
    }
   ],
   "source": [
    "for estimator in estimators:\n",
    "  scores = cross_val_score(estimator[1],X,y,scoring='r2',cv=10)\n",
    "  print(estimator[0],np.round(np.mean(scores),2))"
   ]
  },
  {
   "cell_type": "code",
   "execution_count": 23,
   "id": "bc9a04eb",
   "metadata": {},
   "outputs": [
    {
     "name": "stdout",
     "output_type": "stream",
     "text": [
      "Voting Regressor 0.19\n"
     ]
    }
   ],
   "source": [
    "vr = VotingRegressor(estimators)\n",
    "scores = cross_val_score(vr,X,y,scoring='r2',cv=10)\n",
    "print(\"Voting Regressor\",np.round(np.mean(scores),2))"
   ]
  }
 ],
 "metadata": {
  "kernelspec": {
   "display_name": "Python 3 (ipykernel)",
   "language": "python",
   "name": "python3"
  },
  "language_info": {
   "codemirror_mode": {
    "name": "ipython",
    "version": 3
   },
   "file_extension": ".py",
   "mimetype": "text/x-python",
   "name": "python",
   "nbconvert_exporter": "python",
   "pygments_lexer": "ipython3",
   "version": "3.10.9"
  }
 },
 "nbformat": 4,
 "nbformat_minor": 5
}
