{
 "cells": [
  {
   "cell_type": "markdown",
   "id": "9ead138a",
   "metadata": {},
   "source": [
    "# Apply KNN using sklearn"
   ]
  },
  {
   "cell_type": "code",
   "execution_count": 1,
   "id": "5c941f25",
   "metadata": {},
   "outputs": [],
   "source": [
    "import numpy as np\n",
    "import pandas as pd\n",
    "import matplotlib.pyplot as plt"
   ]
  },
  {
   "cell_type": "code",
   "execution_count": 2,
   "id": "5f71484c",
   "metadata": {},
   "outputs": [
    {
     "data": {
      "text/html": [
       "<div>\n",
       "<style scoped>\n",
       "    .dataframe tbody tr th:only-of-type {\n",
       "        vertical-align: middle;\n",
       "    }\n",
       "\n",
       "    .dataframe tbody tr th {\n",
       "        vertical-align: top;\n",
       "    }\n",
       "\n",
       "    .dataframe thead th {\n",
       "        text-align: right;\n",
       "    }\n",
       "</style>\n",
       "<table border=\"1\" class=\"dataframe\">\n",
       "  <thead>\n",
       "    <tr style=\"text-align: right;\">\n",
       "      <th></th>\n",
       "      <th>User ID</th>\n",
       "      <th>Gender</th>\n",
       "      <th>Age</th>\n",
       "      <th>EstimatedSalary</th>\n",
       "      <th>Purchased</th>\n",
       "    </tr>\n",
       "  </thead>\n",
       "  <tbody>\n",
       "    <tr>\n",
       "      <th>0</th>\n",
       "      <td>15624510</td>\n",
       "      <td>Male</td>\n",
       "      <td>19</td>\n",
       "      <td>19000</td>\n",
       "      <td>0</td>\n",
       "    </tr>\n",
       "    <tr>\n",
       "      <th>1</th>\n",
       "      <td>15810944</td>\n",
       "      <td>Male</td>\n",
       "      <td>35</td>\n",
       "      <td>20000</td>\n",
       "      <td>0</td>\n",
       "    </tr>\n",
       "    <tr>\n",
       "      <th>2</th>\n",
       "      <td>15668575</td>\n",
       "      <td>Female</td>\n",
       "      <td>26</td>\n",
       "      <td>43000</td>\n",
       "      <td>0</td>\n",
       "    </tr>\n",
       "    <tr>\n",
       "      <th>3</th>\n",
       "      <td>15603246</td>\n",
       "      <td>Female</td>\n",
       "      <td>27</td>\n",
       "      <td>57000</td>\n",
       "      <td>0</td>\n",
       "    </tr>\n",
       "    <tr>\n",
       "      <th>4</th>\n",
       "      <td>15804002</td>\n",
       "      <td>Male</td>\n",
       "      <td>19</td>\n",
       "      <td>76000</td>\n",
       "      <td>0</td>\n",
       "    </tr>\n",
       "  </tbody>\n",
       "</table>\n",
       "</div>"
      ],
      "text/plain": [
       "    User ID  Gender  Age  EstimatedSalary  Purchased\n",
       "0  15624510    Male   19            19000          0\n",
       "1  15810944    Male   35            20000          0\n",
       "2  15668575  Female   26            43000          0\n",
       "3  15603246  Female   27            57000          0\n",
       "4  15804002    Male   19            76000          0"
      ]
     },
     "execution_count": 2,
     "metadata": {},
     "output_type": "execute_result"
    }
   ],
   "source": [
    "data=pd.read_csv('Social_Network_Ads.csv')\n",
    "data.head()"
   ]
  },
  {
   "cell_type": "code",
   "execution_count": 3,
   "id": "b25b9637",
   "metadata": {},
   "outputs": [],
   "source": [
    "X=data.iloc[:,2:4].values"
   ]
  },
  {
   "cell_type": "code",
   "execution_count": 4,
   "id": "5c81d306",
   "metadata": {},
   "outputs": [
    {
     "data": {
      "text/plain": [
       "(400, 2)"
      ]
     },
     "execution_count": 4,
     "metadata": {},
     "output_type": "execute_result"
    }
   ],
   "source": [
    "X.shape"
   ]
  },
  {
   "cell_type": "code",
   "execution_count": 5,
   "id": "77d3864d",
   "metadata": {},
   "outputs": [],
   "source": [
    "y=data.iloc[:,-1].values"
   ]
  },
  {
   "cell_type": "code",
   "execution_count": 6,
   "id": "a16f8cdf",
   "metadata": {},
   "outputs": [
    {
     "data": {
      "text/plain": [
       "(400,)"
      ]
     },
     "execution_count": 6,
     "metadata": {},
     "output_type": "execute_result"
    }
   ],
   "source": [
    "y.shape"
   ]
  },
  {
   "cell_type": "code",
   "execution_count": 7,
   "id": "5def357f",
   "metadata": {},
   "outputs": [],
   "source": [
    "from sklearn.model_selection import train_test_split\n",
    "X_train,X_test,y_train,y_test=train_test_split(X,y,test_size=0.20)"
   ]
  },
  {
   "cell_type": "code",
   "execution_count": 8,
   "id": "ed31dc86",
   "metadata": {},
   "outputs": [
    {
     "name": "stdout",
     "output_type": "stream",
     "text": [
      "(320, 2)\n",
      "(80, 2)\n"
     ]
    }
   ],
   "source": [
    "print(X_train.shape)\n",
    "print(X_test.shape)"
   ]
  },
  {
   "cell_type": "code",
   "execution_count": 9,
   "id": "93a385b1",
   "metadata": {},
   "outputs": [
    {
     "data": {
      "text/plain": [
       "array([[-0.54422122,  1.37055795],\n",
       "       [-0.25872812,  0.78335947],\n",
       "       [-0.16356376, -0.30295772],\n",
       "       [ 0.78807991, -0.86079627],\n",
       "       [-1.21037179, -1.09567566],\n",
       "       [-0.25872812, -0.7727165 ],\n",
       "       [-1.30553616, -1.3892749 ],\n",
       "       [ 0.69291554, -1.41863482],\n",
       "       [ 0.12192934, -0.83143635],\n",
       "       [ 0.69291554, -1.30119513],\n",
       "       [-1.11520742, -0.53783711],\n",
       "       [ 2.12038105,  1.10631863],\n",
       "       [ 1.83488795, -1.30119513],\n",
       "       [-0.25872812, -0.1561581 ],\n",
       "       [-0.25872812, -1.27183521],\n",
       "       [-0.73454996,  0.25488084],\n",
       "       [ 0.97840865,  1.98711635],\n",
       "       [-1.78135799, -1.33055505],\n",
       "       [-1.78135799, -0.00935848],\n",
       "       [ 0.88324428, -0.59655695],\n",
       "       [ 1.45423048,  2.13391597],\n",
       "       [ 0.40742244,  0.13744114],\n",
       "       [-0.25872812, -0.30295772],\n",
       "       [ 0.21709371, -0.33231764],\n",
       "       [-0.25872812,  0.0787213 ],\n",
       "       [-0.06839939, -0.50847718],\n",
       "       [-0.73454996,  1.07695871],\n",
       "       [ 0.12192934,  0.25488084],\n",
       "       [-0.35389249,  1.22375833],\n",
       "       [ 0.78807991, -1.12503559],\n",
       "       [-0.35389249, -0.80207642],\n",
       "       [ 0.40742244, -0.1561581 ],\n",
       "       [-1.11520742, -1.18375543],\n",
       "       [-1.68619362,  0.46040031],\n",
       "       [-0.25872812,  0.13744114],\n",
       "       [-0.54422122,  2.33943544],\n",
       "       [-0.25872812, -0.59655695],\n",
       "       [ 1.93005231, -0.68463673],\n",
       "       [ 0.31225808,  0.28424076],\n",
       "       [-1.30553616, -0.44975733],\n",
       "       [ 0.69291554,  0.25488084],\n",
       "       [-0.16356376,  1.39991787],\n",
       "       [ 1.64455921, -0.91951612],\n",
       "       [ 0.88324428, -1.06631574],\n",
       "       [-1.68619362,  0.34296061],\n",
       "       [ 0.21709371, -0.30295772],\n",
       "       [ 0.88324428, -1.33055505],\n",
       "       [ 0.88324428,  1.01823886],\n",
       "       [-0.25872812,  1.10631863],\n",
       "       [ 0.21709371, -0.39103749],\n",
       "       [-0.82971432,  0.13744114],\n",
       "       [ 0.12192934,  1.51735757],\n",
       "       [-0.92487869, -0.97823597],\n",
       "       [ 0.31225808, -1.18375543],\n",
       "       [-1.21037179,  0.57784   ],\n",
       "       [ 0.31225808,  0.04936137],\n",
       "       [-0.25872812,  0.25488084],\n",
       "       [-1.11520742, -1.62415429],\n",
       "       [ 0.02676498,  0.28424076],\n",
       "       [-0.06839939, -0.39103749],\n",
       "       [-0.73454996,  0.54848008],\n",
       "       [ 1.07357301,  0.10808122],\n",
       "       [ 1.35906611, -0.94887604],\n",
       "       [ 0.21709371,  0.13744114],\n",
       "       [ 1.45423048,  0.34296061],\n",
       "       [ 0.69291554, -1.12503559],\n",
       "       [ 0.21709371,  0.04936137],\n",
       "       [-1.78135799,  0.43104038],\n",
       "       [ 0.12192934,  1.04759879],\n",
       "       [ 0.31225808,  0.25488084],\n",
       "       [-0.54422122,  1.89903658],\n",
       "       [ 0.02676498,  0.02000145],\n",
       "       [-0.54422122, -1.53607452],\n",
       "       [-1.49586489,  0.31360069],\n",
       "       [-1.40070052, -1.47735467],\n",
       "       [ 0.78807991,  0.75399955],\n",
       "       [-1.21037179,  0.25488084],\n",
       "       [-1.02004306,  0.75399955],\n",
       "       [ 1.16873738, -1.47735467],\n",
       "       [ 1.07357301, -1.24247528],\n",
       "       [ 0.78807991, -1.3892749 ],\n",
       "       [ 0.40742244, -0.18551802],\n",
       "       [ 0.21709371,  2.10455605],\n",
       "       [-1.02004306, -1.47735467],\n",
       "       [-0.06839939,  1.95775643],\n",
       "       [ 0.40742244, -0.47911726],\n",
       "       [-0.44905686,  1.25311825],\n",
       "       [-1.30553616, -0.36167756],\n",
       "       [-0.16356376, -0.47911726],\n",
       "       [-0.16356376,  0.84207932],\n",
       "       [-1.30553616, -1.27183521],\n",
       "       [-1.02004306,  0.51912016],\n",
       "       [-0.54422122,  1.37055795],\n",
       "       [ 1.73972358,  0.98887894],\n",
       "       [ 1.83488795,  1.51735757],\n",
       "       [ 0.78807991, -1.24247528],\n",
       "       [-1.11520742, -1.56543444],\n",
       "       [ 1.35906611,  1.28247818],\n",
       "       [ 0.50258681,  1.72287704],\n",
       "       [ 2.12038105,  0.93015909],\n",
       "       [-0.16356376,  1.63479726],\n",
       "       [ 0.31225808,  0.48976023],\n",
       "       [ 0.97840865,  2.07519612],\n",
       "       [ 0.02676498, -0.27359779],\n",
       "       [ 0.40742244, -0.47911726],\n",
       "       [ 1.83488795,  0.10808122],\n",
       "       [-0.63938559, -1.06631574],\n",
       "       [-0.44905686, -0.0387184 ],\n",
       "       [-0.44905686,  2.31007552],\n",
       "       [ 0.78807991,  1.37055795],\n",
       "       [ 2.02521668,  0.37232054],\n",
       "       [-0.73454996,  1.34119803],\n",
       "       [-0.73454996, -1.56543444],\n",
       "       [ 0.21709371, -0.27359779],\n",
       "       [-1.11520742, -0.80207642],\n",
       "       [-1.49586489, -1.53607452],\n",
       "       [-1.02004306,  0.54848008],\n",
       "       [-0.06839939, -0.00935848],\n",
       "       [ 0.31225808, -0.30295772],\n",
       "       [-1.59102926,  0.04936137],\n",
       "       [-1.30553616,  0.54848008],\n",
       "       [ 0.69291554, -0.74335657],\n",
       "       [-0.54422122,  0.87143924],\n",
       "       [-1.11520742, -1.62415429],\n",
       "       [ 1.93005231,  0.72463962],\n",
       "       [ 0.02676498, -0.59655695],\n",
       "       [ 0.97840865,  0.57784   ],\n",
       "       [-1.30553616, -1.12503559],\n",
       "       [-1.78135799, -1.5067146 ],\n",
       "       [-0.63938559,  0.10808122],\n",
       "       [-0.92487869, -0.7727165 ],\n",
       "       [ 0.88324428, -1.47735467],\n",
       "       [-1.87652236, -0.7727165 ],\n",
       "       [-0.16356376, -0.21487794],\n",
       "       [ 1.26390175,  1.86967666],\n",
       "       [ 1.73972358,  1.84031673],\n",
       "       [ 1.16873738, -0.7727165 ],\n",
       "       [-0.25872812, -0.33231764],\n",
       "       [-0.63938559,  0.54848008],\n",
       "       [ 0.02676498, -0.44975733],\n",
       "       [-1.21037179,  0.48976023],\n",
       "       [ 2.12038105, -0.83143635],\n",
       "       [-1.68619362, -1.3892749 ],\n",
       "       [ 0.40742244,  2.31007552],\n",
       "       [ 0.02676498,  1.22375833],\n",
       "       [-1.40070052, -0.21487794],\n",
       "       [ 1.45423048, -1.06631574],\n",
       "       [ 0.88324428, -0.62591688],\n",
       "       [ 0.02676498, -0.56719703],\n",
       "       [ 0.21709371,  0.22552092],\n",
       "       [-0.06839939,  0.19616099],\n",
       "       [-0.92487869, -0.33231764],\n",
       "       [ 0.31225808, -0.53783711],\n",
       "       [-1.11520742,  0.04936137],\n",
       "       [ 1.07357301, -0.1561581 ],\n",
       "       [-1.02004306, -0.36167756],\n",
       "       [-0.25872812,  2.25135567],\n",
       "       [-0.92487869,  1.54671749],\n",
       "       [ 0.88324428,  1.25311825],\n",
       "       [ 1.54939485,  0.98887894],\n",
       "       [-1.11520742, -1.12503559],\n",
       "       [ 0.40742244,  0.98887894],\n",
       "       [-1.02004306,  0.57784   ],\n",
       "       [-0.06839939,  0.28424076],\n",
       "       [-0.35389249, -0.80207642],\n",
       "       [-0.82971432,  0.37232054],\n",
       "       [-0.25872812,  0.19616099],\n",
       "       [ 0.21709371, -0.39103749],\n",
       "       [-0.73454996, -0.62591688],\n",
       "       [-1.11520742,  0.31360069],\n",
       "       [-1.11520742,  1.39991787],\n",
       "       [-0.63938559, -0.12679817],\n",
       "       [ 0.31225808, -0.56719703],\n",
       "       [ 0.97840865, -1.09567566],\n",
       "       [ 0.88324428, -1.18375543],\n",
       "       [-0.63938559,  0.16680107],\n",
       "       [-0.63938559, -0.06807832],\n",
       "       [ 1.93005231,  2.1632759 ],\n",
       "       [ 2.12038105, -0.83143635],\n",
       "       [ 0.12192934,  0.75399955],\n",
       "       [-0.16356376, -0.59655695],\n",
       "       [ 0.88324428, -0.80207642],\n",
       "       [-1.87652236,  0.46040031],\n",
       "       [-0.25872812, -0.68463673],\n",
       "       [ 0.40742244,  0.57784   ],\n",
       "       [ 0.31225808, -0.21487794],\n",
       "       [-0.44905686, -0.86079627],\n",
       "       [-1.49586489, -0.21487794],\n",
       "       [ 1.07357301, -1.00759589],\n",
       "       [-1.78135799, -1.44799475],\n",
       "       [-0.25872812, -0.94887604],\n",
       "       [-0.82971432,  2.28071559],\n",
       "       [-1.49586489, -1.27183521],\n",
       "       [-0.63938559,  0.02000145],\n",
       "       [ 0.88324428, -1.3892749 ],\n",
       "       [ 0.40742244,  1.10631863],\n",
       "       [ 0.97840865,  1.4292778 ],\n",
       "       [ 0.69291554,  1.78159688],\n",
       "       [ 1.07357301,  2.07519612],\n",
       "       [ 0.02676498, -0.59655695],\n",
       "       [ 0.40742244, -0.00935848],\n",
       "       [ 0.40742244, -0.50847718],\n",
       "       [-1.59102926, -0.06807832],\n",
       "       [ 1.16873738, -1.00759589],\n",
       "       [ 0.31225808,  0.02000145],\n",
       "       [ 0.31225808,  0.04936137],\n",
       "       [ 1.26390175,  2.22199574],\n",
       "       [ 0.50258681,  1.22375833],\n",
       "       [ 0.69291554, -1.41863482],\n",
       "       [-1.02004306,  1.95775643],\n",
       "       [ 0.21709371, -0.68463673],\n",
       "       [-0.25872812,  0.13744114],\n",
       "       [-0.92487869, -0.44975733],\n",
       "       [-0.54422122,  1.45863772],\n",
       "       [ 1.93005231,  0.90079917],\n",
       "       [-0.82971432,  0.28424076],\n",
       "       [ 0.97840865, -1.09567566],\n",
       "       [-0.16356376,  0.13744114],\n",
       "       [-0.25872812, -0.59655695],\n",
       "       [ 0.59775118,  2.01647628],\n",
       "       [ 0.02676498,  1.25311825],\n",
       "       [ 1.35906611,  1.98711635],\n",
       "       [ 0.97840865,  1.86967666],\n",
       "       [ 1.83488795, -0.30295772],\n",
       "       [-0.82971432, -0.80207642],\n",
       "       [-0.06839939, -0.44975733],\n",
       "       [-0.16356376,  2.1632759 ],\n",
       "       [ 1.54939485, -0.00935848],\n",
       "       [-0.25872812, -1.3892749 ],\n",
       "       [ 0.97840865, -1.21311536],\n",
       "       [-0.06839939,  0.10808122],\n",
       "       [-0.44905686, -1.15439551],\n",
       "       [-0.82971432, -0.27359779],\n",
       "       [ 0.78807991,  0.34296061],\n",
       "       [-0.06839939,  0.02000145],\n",
       "       [ 0.21709371, -0.39103749],\n",
       "       [ 0.21709371,  0.13744114],\n",
       "       [ 0.02676498, -0.33231764],\n",
       "       [-1.02004306, -0.39103749],\n",
       "       [-1.02004306, -1.15439551],\n",
       "       [ 0.59775118, -0.91951612],\n",
       "       [-0.44905686, -0.56719703],\n",
       "       [-1.02004306, -0.36167756],\n",
       "       [-1.40070052,  0.34296061],\n",
       "       [ 2.12038105,  0.37232054],\n",
       "       [-0.25872812,  0.02000145],\n",
       "       [ 0.12192934,  0.02000145],\n",
       "       [-1.02004306, -0.47911726],\n",
       "       [-0.92487869, -1.12503559],\n",
       "       [ 0.40742244,  0.28424076],\n",
       "       [ 1.45423048,  0.98887894],\n",
       "       [-0.25872812, -0.91951612],\n",
       "       [-1.59102926,  0.51912016],\n",
       "       [-0.25872812, -0.39103749],\n",
       "       [-0.06839939, -1.09567566],\n",
       "       [-0.25872812, -1.41863482],\n",
       "       [ 0.88324428, -0.56719703],\n",
       "       [ 0.31225808, -0.74335657],\n",
       "       [-1.40070052, -1.24247528],\n",
       "       [ 0.78807991, -1.41863482],\n",
       "       [-0.25872812,  0.60719993],\n",
       "       [ 1.07357301,  0.54848008],\n",
       "       [-1.68619362,  0.10808122],\n",
       "       [ 0.97840865,  1.78159688],\n",
       "       [-1.59102926, -1.59479437],\n",
       "       [-0.82971432, -0.68463673],\n",
       "       [ 2.12038105, -0.71399665],\n",
       "       [ 0.12192934,  0.19616099],\n",
       "       [-0.73454996,  0.28424076],\n",
       "       [-0.92487869,  0.43104038],\n",
       "       [-0.63938559, -1.53607452],\n",
       "       [ 0.40742244,  0.25488084],\n",
       "       [-0.16356376, -1.09567566],\n",
       "       [-0.54422122, -1.53607452],\n",
       "       [-0.06839939,  0.28424076],\n",
       "       [ 0.31225808,  0.04936137],\n",
       "       [-0.25872812, -1.33055505],\n",
       "       [-1.02004306, -1.56543444],\n",
       "       [ 1.93005231, -0.94887604],\n",
       "       [-1.30553616,  0.40168046],\n",
       "       [-1.87652236,  0.34296061],\n",
       "       [ 0.02676498, -0.27359779],\n",
       "       [ 2.02521668,  0.51912016],\n",
       "       [-1.11520742,  0.28424076],\n",
       "       [ 0.40742244,  0.0787213 ],\n",
       "       [ 0.78807991, -0.33231764],\n",
       "       [ 0.88324428,  1.07695871],\n",
       "       [ 2.02521668,  0.16680107],\n",
       "       [-0.25872812, -0.27359779],\n",
       "       [-0.06839939,  0.25488084],\n",
       "       [ 0.40742244,  0.28424076],\n",
       "       [ 1.45423048,  0.04936137],\n",
       "       [ 0.12192934, -0.83143635],\n",
       "       [ 2.02521668, -1.21311536],\n",
       "       [ 2.02521668,  2.13391597],\n",
       "       [-0.06839939,  0.22552092],\n",
       "       [-0.35389249,  1.3118381 ],\n",
       "       [-0.92487869,  0.25488084],\n",
       "       [-0.73454996,  1.89903658],\n",
       "       [-1.11520742,  0.46040031],\n",
       "       [-1.11520742,  0.40168046],\n",
       "       [ 1.93005231, -1.3892749 ],\n",
       "       [ 1.35906611,  0.57784   ],\n",
       "       [ 2.02521668,  1.75223696],\n",
       "       [ 0.31225808, -0.33231764],\n",
       "       [-1.87652236, -0.06807832],\n",
       "       [ 0.88324428,  2.1632759 ],\n",
       "       [-0.92487869, -0.33231764],\n",
       "       [ 0.12192934, -0.27359779],\n",
       "       [-0.92487869,  0.40168046],\n",
       "       [-0.06839939, -0.53783711],\n",
       "       [-0.82971432,  0.37232054],\n",
       "       [-0.25872812,  0.51912016],\n",
       "       [ 2.02521668, -0.83143635],\n",
       "       [-0.44905686, -0.30295772],\n",
       "       [ 1.07357301,  0.51912016],\n",
       "       [ 0.97840865,  0.10808122],\n",
       "       [-0.63938559, -1.62415429],\n",
       "       [-0.73454996, -0.24423787],\n",
       "       [-1.87652236, -0.53783711]])"
      ]
     },
     "execution_count": 9,
     "metadata": {},
     "output_type": "execute_result"
    }
   ],
   "source": [
    "from sklearn.preprocessing import StandardScaler\n",
    "scaler=StandardScaler()\n",
    "X_train=scaler.fit_transform(X_train)\n",
    "X_train"
   ]
  },
  {
   "cell_type": "code",
   "execution_count": 10,
   "id": "094c061e",
   "metadata": {},
   "outputs": [
    {
     "data": {
      "text/plain": [
       "array([[ 1.16873738,  0.51912016],\n",
       "       [-0.44905686, -1.24247528],\n",
       "       [-0.92487869,  0.54848008],\n",
       "       [ 1.73972358, -0.30295772],\n",
       "       [-1.40070052, -0.12679817],\n",
       "       [ 0.02676498, -0.1561581 ],\n",
       "       [ 0.21709371, -0.1561581 ],\n",
       "       [ 0.97840865, -1.03695581],\n",
       "       [-0.92487869,  0.48976023],\n",
       "       [ 0.97840865, -0.86079627],\n",
       "       [-0.54422122,  0.46040031],\n",
       "       [ 0.12192934,  0.0787213 ],\n",
       "       [ 0.97840865, -1.18375543],\n",
       "       [-1.68619362, -1.00759589],\n",
       "       [-0.06839939, -0.24423787],\n",
       "       [-0.06839939,  2.1632759 ],\n",
       "       [ 1.83488795, -1.09567566],\n",
       "       [ 0.97840865,  0.75399955],\n",
       "       [ 0.12192934, -0.33231764],\n",
       "       [ 0.40742244, -0.1561581 ],\n",
       "       [-1.11520742, -1.59479437],\n",
       "       [ 1.07357301, -1.24247528],\n",
       "       [ 1.64455921,  1.60543734],\n",
       "       [ 1.35906611, -1.44799475],\n",
       "       [ 0.78807991,  0.25488084],\n",
       "       [-1.68619362, -0.62591688],\n",
       "       [ 0.21709371,  0.02000145],\n",
       "       [ 0.78807991,  0.10808122],\n",
       "       [ 0.78807991,  0.51912016],\n",
       "       [ 0.02676498,  0.02000145],\n",
       "       [ 0.12192934,  0.02000145],\n",
       "       [-0.06839939,  2.22199574],\n",
       "       [-0.82971432, -1.24247528],\n",
       "       [-0.63938559, -0.36167756],\n",
       "       [ 0.31225808,  0.04936137],\n",
       "       [ 1.54939485,  1.10631863],\n",
       "       [-1.78135799,  0.16680107],\n",
       "       [ 2.12038105, -1.06631574],\n",
       "       [-0.63938559,  1.39991787],\n",
       "       [-0.35389249,  0.04936137],\n",
       "       [-1.49586489, -0.44975733],\n",
       "       [ 0.12192934,  1.86967666],\n",
       "       [-1.40070052, -0.6552768 ],\n",
       "       [-0.35389249, -1.33055505],\n",
       "       [ 1.54939485, -1.30119513],\n",
       "       [-0.06839939,  0.13744114],\n",
       "       [-0.06839939,  0.66591977],\n",
       "       [-1.78135799, -1.30119513],\n",
       "       [-1.21037179,  0.28424076],\n",
       "       [-0.25872812, -0.44975733],\n",
       "       [ 0.12192934,  0.13744114],\n",
       "       [ 1.64455921,  1.75223696],\n",
       "       [ 1.35906611,  2.33943544],\n",
       "       [ 1.07357301, -0.91951612],\n",
       "       [-0.25872812, -1.47735467],\n",
       "       [-0.44905686, -0.80207642],\n",
       "       [-1.30553616, -1.5067146 ],\n",
       "       [-1.11520742,  0.28424076],\n",
       "       [ 1.26390175, -1.3892749 ],\n",
       "       [-0.73454996,  0.48976023],\n",
       "       [-0.16356376, -0.53783711],\n",
       "       [ 0.88324428, -0.68463673],\n",
       "       [ 1.07357301,  0.46040031],\n",
       "       [-0.82971432, -0.80207642],\n",
       "       [ 0.50258681,  1.84031673],\n",
       "       [-1.30553616, -0.44975733],\n",
       "       [-0.73454996, -1.62415429],\n",
       "       [-0.25872812,  0.04936137],\n",
       "       [-1.11520742, -1.03695581],\n",
       "       [ 0.31225808, -0.53783711],\n",
       "       [-0.16356376,  1.60543734],\n",
       "       [-0.25872812, -0.50847718],\n",
       "       [-1.21037179, -1.41863482],\n",
       "       [-0.25872812,  0.04936137],\n",
       "       [-1.02004306,  0.40168046],\n",
       "       [-1.68619362,  0.34296061],\n",
       "       [ 0.21709371,  1.07695871],\n",
       "       [-0.25872812, -0.36167756],\n",
       "       [-0.06839939,  0.04936137],\n",
       "       [ 0.12192934,  1.86967666]])"
      ]
     },
     "execution_count": 10,
     "metadata": {},
     "output_type": "execute_result"
    }
   ],
   "source": [
    "X_test=scaler.transform(X_test)\n",
    "X_test"
   ]
  },
  {
   "cell_type": "markdown",
   "id": "f6641bf0",
   "metadata": {},
   "source": [
    "### Method-1 to find value of K"
   ]
  },
  {
   "cell_type": "code",
   "execution_count": 11,
   "id": "262c819a",
   "metadata": {},
   "outputs": [
    {
     "data": {
      "text/plain": [
       "17.88854381999832"
      ]
     },
     "execution_count": 11,
     "metadata": {},
     "output_type": "execute_result"
    }
   ],
   "source": [
    "np.sqrt(X_train.shape[0])"
   ]
  },
  {
   "cell_type": "code",
   "execution_count": 12,
   "id": "66c8ddee",
   "metadata": {},
   "outputs": [],
   "source": [
    "k=17\n",
    "from sklearn.neighbors import KNeighborsClassifier\n",
    "knn=KNeighborsClassifier(n_neighbors=k)"
   ]
  },
  {
   "cell_type": "code",
   "execution_count": 13,
   "id": "dff6e72a",
   "metadata": {},
   "outputs": [
    {
     "data": {
      "text/html": [
       "<style>#sk-container-id-1 {color: black;background-color: white;}#sk-container-id-1 pre{padding: 0;}#sk-container-id-1 div.sk-toggleable {background-color: white;}#sk-container-id-1 label.sk-toggleable__label {cursor: pointer;display: block;width: 100%;margin-bottom: 0;padding: 0.3em;box-sizing: border-box;text-align: center;}#sk-container-id-1 label.sk-toggleable__label-arrow:before {content: \"▸\";float: left;margin-right: 0.25em;color: #696969;}#sk-container-id-1 label.sk-toggleable__label-arrow:hover:before {color: black;}#sk-container-id-1 div.sk-estimator:hover label.sk-toggleable__label-arrow:before {color: black;}#sk-container-id-1 div.sk-toggleable__content {max-height: 0;max-width: 0;overflow: hidden;text-align: left;background-color: #f0f8ff;}#sk-container-id-1 div.sk-toggleable__content pre {margin: 0.2em;color: black;border-radius: 0.25em;background-color: #f0f8ff;}#sk-container-id-1 input.sk-toggleable__control:checked~div.sk-toggleable__content {max-height: 200px;max-width: 100%;overflow: auto;}#sk-container-id-1 input.sk-toggleable__control:checked~label.sk-toggleable__label-arrow:before {content: \"▾\";}#sk-container-id-1 div.sk-estimator input.sk-toggleable__control:checked~label.sk-toggleable__label {background-color: #d4ebff;}#sk-container-id-1 div.sk-label input.sk-toggleable__control:checked~label.sk-toggleable__label {background-color: #d4ebff;}#sk-container-id-1 input.sk-hidden--visually {border: 0;clip: rect(1px 1px 1px 1px);clip: rect(1px, 1px, 1px, 1px);height: 1px;margin: -1px;overflow: hidden;padding: 0;position: absolute;width: 1px;}#sk-container-id-1 div.sk-estimator {font-family: monospace;background-color: #f0f8ff;border: 1px dotted black;border-radius: 0.25em;box-sizing: border-box;margin-bottom: 0.5em;}#sk-container-id-1 div.sk-estimator:hover {background-color: #d4ebff;}#sk-container-id-1 div.sk-parallel-item::after {content: \"\";width: 100%;border-bottom: 1px solid gray;flex-grow: 1;}#sk-container-id-1 div.sk-label:hover label.sk-toggleable__label {background-color: #d4ebff;}#sk-container-id-1 div.sk-serial::before {content: \"\";position: absolute;border-left: 1px solid gray;box-sizing: border-box;top: 0;bottom: 0;left: 50%;z-index: 0;}#sk-container-id-1 div.sk-serial {display: flex;flex-direction: column;align-items: center;background-color: white;padding-right: 0.2em;padding-left: 0.2em;position: relative;}#sk-container-id-1 div.sk-item {position: relative;z-index: 1;}#sk-container-id-1 div.sk-parallel {display: flex;align-items: stretch;justify-content: center;background-color: white;position: relative;}#sk-container-id-1 div.sk-item::before, #sk-container-id-1 div.sk-parallel-item::before {content: \"\";position: absolute;border-left: 1px solid gray;box-sizing: border-box;top: 0;bottom: 0;left: 50%;z-index: -1;}#sk-container-id-1 div.sk-parallel-item {display: flex;flex-direction: column;z-index: 1;position: relative;background-color: white;}#sk-container-id-1 div.sk-parallel-item:first-child::after {align-self: flex-end;width: 50%;}#sk-container-id-1 div.sk-parallel-item:last-child::after {align-self: flex-start;width: 50%;}#sk-container-id-1 div.sk-parallel-item:only-child::after {width: 0;}#sk-container-id-1 div.sk-dashed-wrapped {border: 1px dashed gray;margin: 0 0.4em 0.5em 0.4em;box-sizing: border-box;padding-bottom: 0.4em;background-color: white;}#sk-container-id-1 div.sk-label label {font-family: monospace;font-weight: bold;display: inline-block;line-height: 1.2em;}#sk-container-id-1 div.sk-label-container {text-align: center;}#sk-container-id-1 div.sk-container {/* jupyter's `normalize.less` sets `[hidden] { display: none; }` but bootstrap.min.css set `[hidden] { display: none !important; }` so we also need the `!important` here to be able to override the default hidden behavior on the sphinx rendered scikit-learn.org. See: https://github.com/scikit-learn/scikit-learn/issues/21755 */display: inline-block !important;position: relative;}#sk-container-id-1 div.sk-text-repr-fallback {display: none;}</style><div id=\"sk-container-id-1\" class=\"sk-top-container\"><div class=\"sk-text-repr-fallback\"><pre>KNeighborsClassifier(n_neighbors=17)</pre><b>In a Jupyter environment, please rerun this cell to show the HTML representation or trust the notebook. <br />On GitHub, the HTML representation is unable to render, please try loading this page with nbviewer.org.</b></div><div class=\"sk-container\" hidden><div class=\"sk-item\"><div class=\"sk-estimator sk-toggleable\"><input class=\"sk-toggleable__control sk-hidden--visually\" id=\"sk-estimator-id-1\" type=\"checkbox\" checked><label for=\"sk-estimator-id-1\" class=\"sk-toggleable__label sk-toggleable__label-arrow\">KNeighborsClassifier</label><div class=\"sk-toggleable__content\"><pre>KNeighborsClassifier(n_neighbors=17)</pre></div></div></div></div></div>"
      ],
      "text/plain": [
       "KNeighborsClassifier(n_neighbors=17)"
      ]
     },
     "execution_count": 13,
     "metadata": {},
     "output_type": "execute_result"
    }
   ],
   "source": [
    "# Train our model\n",
    "knn.fit(X_train,y_train)"
   ]
  },
  {
   "cell_type": "code",
   "execution_count": 14,
   "id": "e65076fe",
   "metadata": {},
   "outputs": [
    {
     "data": {
      "text/plain": [
       "(80,)"
      ]
     },
     "execution_count": 14,
     "metadata": {},
     "output_type": "execute_result"
    }
   ],
   "source": [
    "y_pred=knn.predict(X_test)\n",
    "y_pred.shape"
   ]
  },
  {
   "cell_type": "code",
   "execution_count": 15,
   "id": "8785ecbe",
   "metadata": {},
   "outputs": [
    {
     "data": {
      "text/plain": [
       "(80,)"
      ]
     },
     "execution_count": 15,
     "metadata": {},
     "output_type": "execute_result"
    }
   ],
   "source": [
    "y_test.shape"
   ]
  },
  {
   "cell_type": "code",
   "execution_count": 16,
   "id": "dfb6bf93",
   "metadata": {},
   "outputs": [
    {
     "data": {
      "text/plain": [
       "0.925"
      ]
     },
     "execution_count": 16,
     "metadata": {},
     "output_type": "execute_result"
    }
   ],
   "source": [
    "from sklearn.metrics import accuracy_score\n",
    "accuracy_score(y_test,y_pred)"
   ]
  },
  {
   "cell_type": "code",
   "execution_count": 17,
   "id": "8e9b9a25",
   "metadata": {},
   "outputs": [
    {
     "data": {
      "text/plain": [
       "array([[48,  2],\n",
       "       [ 4, 26]], dtype=int64)"
      ]
     },
     "execution_count": 17,
     "metadata": {},
     "output_type": "execute_result"
    }
   ],
   "source": [
    "from sklearn.metrics import confusion_matrix\n",
    "confusion_matrix(y_test,y_pred)"
   ]
  },
  {
   "cell_type": "markdown",
   "id": "e11c47c7",
   "metadata": {},
   "source": [
    "### Method-2 to find value of K"
   ]
  },
  {
   "cell_type": "code",
   "execution_count": 18,
   "id": "272db562",
   "metadata": {},
   "outputs": [],
   "source": [
    "# Effect of K on Training Error rate and Validation Error rate\n",
    "\n",
    "error_train=[]\n",
    "error_test=[]\n",
    "\n",
    "for i in range(1,26):\n",
    "    knn=KNeighborsClassifier(n_neighbors=i)\n",
    "    knn.fit(X_train,y_train)\n",
    "    x=confusion_matrix(y_train,knn.predict(X_train))\n",
    "    y=confusion_matrix(y_test,knn.predict(X_test))\n",
    "    error_train.append((x[0][1]+x[1][0])/x.sum())\n",
    "    error_test.append((y[0][1]+y[1][0])/y.sum())"
   ]
  },
  {
   "cell_type": "code",
   "execution_count": 19,
   "id": "a4cd30e8",
   "metadata": {},
   "outputs": [
    {
     "data": {
      "text/plain": [
       "<matplotlib.legend.Legend at 0x11114968b20>"
      ]
     },
     "execution_count": 19,
     "metadata": {},
     "output_type": "execute_result"
    },
    {
     "data": {
      "image/png": "[encoded data removed]",
      "text/plain": [
       "<Figure size 640x480 with 1 Axes>"
      ]
     },
     "metadata": {},
     "output_type": "display_data"
    }
   ],
   "source": [
    "plt.plot(range(1,26),error_train,label='training error rate')\n",
    "plt.plot(range(1,26),error_test,label='test/validation error rate')\n",
    "plt.xlabel('K Value')\n",
    "plt.ylabel('Error')\n",
    "plt.legend()"
   ]
  },
  {
   "cell_type": "code",
   "execution_count": 20,
   "id": "f9f223f9",
   "metadata": {},
   "outputs": [
    {
     "data": {
      "text/html": [
       "<style>#sk-container-id-2 {color: black;background-color: white;}#sk-container-id-2 pre{padding: 0;}#sk-container-id-2 div.sk-toggleable {background-color: white;}#sk-container-id-2 label.sk-toggleable__label {cursor: pointer;display: block;width: 100%;margin-bottom: 0;padding: 0.3em;box-sizing: border-box;text-align: center;}#sk-container-id-2 label.sk-toggleable__label-arrow:before {content: \"▸\";float: left;margin-right: 0.25em;color: #696969;}#sk-container-id-2 label.sk-toggleable__label-arrow:hover:before {color: black;}#sk-container-id-2 div.sk-estimator:hover label.sk-toggleable__label-arrow:before {color: black;}#sk-container-id-2 div.sk-toggleable__content {max-height: 0;max-width: 0;overflow: hidden;text-align: left;background-color: #f0f8ff;}#sk-container-id-2 div.sk-toggleable__content pre {margin: 0.2em;color: black;border-radius: 0.25em;background-color: #f0f8ff;}#sk-container-id-2 input.sk-toggleable__control:checked~div.sk-toggleable__content {max-height: 200px;max-width: 100%;overflow: auto;}#sk-container-id-2 input.sk-toggleable__control:checked~label.sk-toggleable__label-arrow:before {content: \"▾\";}#sk-container-id-2 div.sk-estimator input.sk-toggleable__control:checked~label.sk-toggleable__label {background-color: #d4ebff;}#sk-container-id-2 div.sk-label input.sk-toggleable__control:checked~label.sk-toggleable__label {background-color: #d4ebff;}#sk-container-id-2 input.sk-hidden--visually {border: 0;clip: rect(1px 1px 1px 1px);clip: rect(1px, 1px, 1px, 1px);height: 1px;margin: -1px;overflow: hidden;padding: 0;position: absolute;width: 1px;}#sk-container-id-2 div.sk-estimator {font-family: monospace;background-color: #f0f8ff;border: 1px dotted black;border-radius: 0.25em;box-sizing: border-box;margin-bottom: 0.5em;}#sk-container-id-2 div.sk-estimator:hover {background-color: #d4ebff;}#sk-container-id-2 div.sk-parallel-item::after {content: \"\";width: 100%;border-bottom: 1px solid gray;flex-grow: 1;}#sk-container-id-2 div.sk-label:hover label.sk-toggleable__label {background-color: #d4ebff;}#sk-container-id-2 div.sk-serial::before {content: \"\";position: absolute;border-left: 1px solid gray;box-sizing: border-box;top: 0;bottom: 0;left: 50%;z-index: 0;}#sk-container-id-2 div.sk-serial {display: flex;flex-direction: column;align-items: center;background-color: white;padding-right: 0.2em;padding-left: 0.2em;position: relative;}#sk-container-id-2 div.sk-item {position: relative;z-index: 1;}#sk-container-id-2 div.sk-parallel {display: flex;align-items: stretch;justify-content: center;background-color: white;position: relative;}#sk-container-id-2 div.sk-item::before, #sk-container-id-2 div.sk-parallel-item::before {content: \"\";position: absolute;border-left: 1px solid gray;box-sizing: border-box;top: 0;bottom: 0;left: 50%;z-index: -1;}#sk-container-id-2 div.sk-parallel-item {display: flex;flex-direction: column;z-index: 1;position: relative;background-color: white;}#sk-container-id-2 div.sk-parallel-item:first-child::after {align-self: flex-end;width: 50%;}#sk-container-id-2 div.sk-parallel-item:last-child::after {align-self: flex-start;width: 50%;}#sk-container-id-2 div.sk-parallel-item:only-child::after {width: 0;}#sk-container-id-2 div.sk-dashed-wrapped {border: 1px dashed gray;margin: 0 0.4em 0.5em 0.4em;box-sizing: border-box;padding-bottom: 0.4em;background-color: white;}#sk-container-id-2 div.sk-label label {font-family: monospace;font-weight: bold;display: inline-block;line-height: 1.2em;}#sk-container-id-2 div.sk-label-container {text-align: center;}#sk-container-id-2 div.sk-container {/* jupyter's `normalize.less` sets `[hidden] { display: none; }` but bootstrap.min.css set `[hidden] { display: none !important; }` so we also need the `!important` here to be able to override the default hidden behavior on the sphinx rendered scikit-learn.org. See: https://github.com/scikit-learn/scikit-learn/issues/21755 */display: inline-block !important;position: relative;}#sk-container-id-2 div.sk-text-repr-fallback {display: none;}</style><div id=\"sk-container-id-2\" class=\"sk-top-container\"><div class=\"sk-text-repr-fallback\"><pre>KNeighborsClassifier(n_neighbors=11)</pre><b>In a Jupyter environment, please rerun this cell to show the HTML representation or trust the notebook. <br />On GitHub, the HTML representation is unable to render, please try loading this page with nbviewer.org.</b></div><div class=\"sk-container\" hidden><div class=\"sk-item\"><div class=\"sk-estimator sk-toggleable\"><input class=\"sk-toggleable__control sk-hidden--visually\" id=\"sk-estimator-id-2\" type=\"checkbox\" checked><label for=\"sk-estimator-id-2\" class=\"sk-toggleable__label sk-toggleable__label-arrow\">KNeighborsClassifier</label><div class=\"sk-toggleable__content\"><pre>KNeighborsClassifier(n_neighbors=11)</pre></div></div></div></div></div>"
      ],
      "text/plain": [
       "KNeighborsClassifier(n_neighbors=11)"
      ]
     },
     "execution_count": 20,
     "metadata": {},
     "output_type": "execute_result"
    }
   ],
   "source": [
    "knn=KNeighborsClassifier(n_neighbors=11)\n",
    "knn.fit(X_train,y_train)"
   ]
  },
  {
   "cell_type": "code",
   "execution_count": 21,
   "id": "cb41579b",
   "metadata": {},
   "outputs": [],
   "source": [
    "y_pred=knn.predict(X_test)"
   ]
  },
  {
   "cell_type": "code",
   "execution_count": 22,
   "id": "2ce36a88",
   "metadata": {},
   "outputs": [
    {
     "data": {
      "text/plain": [
       "0.9375"
      ]
     },
     "execution_count": 22,
     "metadata": {},
     "output_type": "execute_result"
    }
   ],
   "source": [
    "accuracy_score(y_test,y_pred)"
   ]
  },
  {
   "cell_type": "markdown",
   "id": "12fa1f30",
   "metadata": {},
   "source": [
    "# Apply KNN using user defined function"
   ]
  },
  {
   "cell_type": "code",
   "execution_count": 23,
   "id": "c03b9bad",
   "metadata": {},
   "outputs": [],
   "source": [
    "def predict_output():\n",
    "    age=int(input(\"Enter the age\"))\n",
    "    salary=int(input(\"Enter the salary\"))\n",
    "    \n",
    "    X_new=np.array([[age],[salary]]).reshape(1,2)\n",
    "    X_new=scaler.transform(X_new)\n",
    "    \n",
    "    if knn.predict(X_new)[0]==0:\n",
    "        return \"Will not purchase\"\n",
    "    else:\n",
    "        return \"Will purchase\""
   ]
  },
  {
   "cell_type": "code",
   "execution_count": 24,
   "id": "cc5e927f",
   "metadata": {},
   "outputs": [
    {
     "name": "stdout",
     "output_type": "stream",
     "text": [
      "Enter the age20\n",
      "Enter the salary20000\n"
     ]
    },
    {
     "data": {
      "text/plain": [
       "'Will not purchase'"
      ]
     },
     "execution_count": 24,
     "metadata": {},
     "output_type": "execute_result"
    }
   ],
   "source": [
    "predict_output()"
   ]
  }
 ],
 "metadata": {
  "kernelspec": {
   "display_name": "Python 3 (ipykernel)",
   "language": "python",
   "name": "python3"
  },
  "language_info": {
   "codemirror_mode": {
    "name": "ipython",
    "version": 3
   },
   "file_extension": ".py",
   "mimetype": "text/x-python",
   "name": "python",
   "nbconvert_exporter": "python",
   "pygments_lexer": "ipython3",
   "version": "3.10.9"
  }
 },
 "nbformat": 4,
 "nbformat_minor": 5
}
