{
 "cells": [
  {
   "cell_type": "markdown",
   "id": "7ef42cd4",
   "metadata": {},
   "source": [
    "Weighted kNN is a modified version of k nearest neighbors. One of the many issues that affect the performance of the kNN algorithm is the choice of the hyperparameter k. If k is too small, the algorithm would be more sensitive to outliers. If k is too large, then the neighborhood may include too many points from other classes."
   ]
  },
  {
   "cell_type": "markdown",
   "id": "5f746cee",
   "metadata": {},
   "source": [
    "## Consider 0 as the label for class 0 and 1 as the label for class 1"
   ]
  },
  {
   "cell_type": "code",
   "execution_count": 1,
   "id": "935b59cb",
   "metadata": {},
   "outputs": [
    {
     "name": "stdout",
     "output_type": "stream",
     "text": [
      "The value classified to query point is: 1\n"
     ]
    }
   ],
   "source": [
    "import math \n",
    "\n",
    "def weightedkNN(points,p,k=3): \n",
    "    ''' \n",
    "    This function finds classification of p using \n",
    "    weighted k nearest neighbour algorithm. It assumes only two \n",
    "    two classes and returns 0 if p belongs to class 0, else \n",
    "    1 (belongs to class 1). \n",
    "\n",
    "    Parameters - \n",
    "        points : Dictionary of training points having two keys - 0 and 1 \n",
    "            Each key have a list of training data points belong to that \n",
    "\n",
    "        p : A tuple ,test data point of form (x,y) \n",
    "\n",
    "        k : number of nearest neighbour to consider, default is 3 \n",
    "    '''\n",
    "\n",
    "    distance=[] \n",
    "    for group in points: \n",
    "        for feature in points[group]: \n",
    "\n",
    "            #calculate the euclidean distance of p from training points \n",
    "            euclidean_distance = math.sqrt((feature[0]-p[0])**2 +(feature[1]-p[1])**2) \n",
    "\n",
    "            # Add a tuple of form (distance,group) in the distance list \n",
    "    distance.append((euclidean_distance,group)) \n",
    "\n",
    "    # sort the distance list in ascending order \n",
    "    # and select first k distances \n",
    "    distance = sorted(distance)[:k] \n",
    "\n",
    "    freq1 = 0 # weighted sum of group 0 \n",
    "    freq2 = 0 # weighted sum of group 1 \n",
    "\n",
    "    for d in distance: \n",
    "        if d[1] == 0: \n",
    "            freq1 += (1 / d[0]) \n",
    "\n",
    "        elif d[1] == 1: \n",
    "            freq2 += (1 /d[0]) \n",
    "\n",
    "    return 0 if freq1>freq2 else 1\n",
    "\n",
    "\n",
    "def main(): \n",
    "\n",
    "    # Dictionary of training points having two keys - 0 and 1 \n",
    "    # key 0 have points belong to class 0 \n",
    "    # key 1 have points belong to class 1 \n",
    "\n",
    "    points = {0:[(0, 4),(1, 4.9),(1.6, 5.4),(2.2, 6),(2.8, 7),(3.2, 8),(3.4, 9)], \n",
    "            1:[(1.8, 1),(2.2, 3),(3, 4),(4, 4.5),(5, 5),(6, 5.5)]} \n",
    "\n",
    "    # query point p(x,y) \n",
    "    p = (2, 4) \n",
    "\n",
    "    # Number of neighbours \n",
    "    k = 5\n",
    "\n",
    "    print(\"The value classified to query point is: {}\".format(weightedkNN(points,p,k))) \n",
    "\n",
    "if __name__ == '__main__': \n",
    "    main() \n"
   ]
  }
 ],
 "metadata": {
  "kernelspec": {
   "display_name": "Python 3 (ipykernel)",
   "language": "python",
   "name": "python3"
  },
  "language_info": {
   "codemirror_mode": {
    "name": "ipython",
    "version": 3
   },
   "file_extension": ".py",
   "mimetype": "text/x-python",
   "name": "python",
   "nbconvert_exporter": "python",
   "pygments_lexer": "ipython3",
   "version": "3.10.9"
  }
 },
 "nbformat": 4,
 "nbformat_minor": 5
}
