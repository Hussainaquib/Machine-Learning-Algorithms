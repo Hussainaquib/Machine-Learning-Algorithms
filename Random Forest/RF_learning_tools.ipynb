{
 "cells": [
  {
   "cell_type": "code",
   "execution_count": 1,
   "id": "d07ae94b",
   "metadata": {},
   "outputs": [],
   "source": [
    "import numpy as np\n",
    "import pandas as pd\n",
    "from sklearn.datasets import make_classification\n",
    "import random"
   ]
  },
  {
   "cell_type": "code",
   "execution_count": 2,
   "id": "72487e74",
   "metadata": {},
   "outputs": [],
   "source": [
    "X,y = make_classification(n_features=5, n_redundant=0, n_informative=5,n_clusters_per_class=1)"
   ]
  },
  {
   "cell_type": "code",
   "execution_count": 3,
   "id": "0afa601d",
   "metadata": {},
   "outputs": [
    {
     "name": "stdout",
     "output_type": "stream",
     "text": [
      "(100, 6)\n"
     ]
    },
    {
     "data": {
      "text/html": [
       "<div>\n",
       "<style scoped>\n",
       "    .dataframe tbody tr th:only-of-type {\n",
       "        vertical-align: middle;\n",
       "    }\n",
       "\n",
       "    .dataframe tbody tr th {\n",
       "        vertical-align: top;\n",
       "    }\n",
       "\n",
       "    .dataframe thead th {\n",
       "        text-align: right;\n",
       "    }\n",
       "</style>\n",
       "<table border=\"1\" class=\"dataframe\">\n",
       "  <thead>\n",
       "    <tr style=\"text-align: right;\">\n",
       "      <th></th>\n",
       "      <th>col1</th>\n",
       "      <th>col2</th>\n",
       "      <th>col3</th>\n",
       "      <th>col4</th>\n",
       "      <th>col5</th>\n",
       "      <th>target</th>\n",
       "    </tr>\n",
       "  </thead>\n",
       "  <tbody>\n",
       "    <tr>\n",
       "      <th>0</th>\n",
       "      <td>0.192880</td>\n",
       "      <td>-2.185507</td>\n",
       "      <td>-1.617694</td>\n",
       "      <td>-1.267225</td>\n",
       "      <td>1.167748</td>\n",
       "      <td>1</td>\n",
       "    </tr>\n",
       "    <tr>\n",
       "      <th>1</th>\n",
       "      <td>-0.345451</td>\n",
       "      <td>1.581011</td>\n",
       "      <td>-0.878882</td>\n",
       "      <td>1.913031</td>\n",
       "      <td>-1.572591</td>\n",
       "      <td>0</td>\n",
       "    </tr>\n",
       "    <tr>\n",
       "      <th>2</th>\n",
       "      <td>3.081044</td>\n",
       "      <td>-3.192988</td>\n",
       "      <td>1.036201</td>\n",
       "      <td>-0.610738</td>\n",
       "      <td>1.484757</td>\n",
       "      <td>1</td>\n",
       "    </tr>\n",
       "    <tr>\n",
       "      <th>3</th>\n",
       "      <td>2.415303</td>\n",
       "      <td>-1.601202</td>\n",
       "      <td>-1.926245</td>\n",
       "      <td>-2.713822</td>\n",
       "      <td>1.920054</td>\n",
       "      <td>1</td>\n",
       "    </tr>\n",
       "    <tr>\n",
       "      <th>4</th>\n",
       "      <td>-0.534907</td>\n",
       "      <td>-1.086803</td>\n",
       "      <td>-1.404272</td>\n",
       "      <td>-0.494933</td>\n",
       "      <td>2.711198</td>\n",
       "      <td>1</td>\n",
       "    </tr>\n",
       "  </tbody>\n",
       "</table>\n",
       "</div>"
      ],
      "text/plain": [
       "       col1      col2      col3      col4      col5  target\n",
       "0  0.192880 -2.185507 -1.617694 -1.267225  1.167748       1\n",
       "1 -0.345451  1.581011 -0.878882  1.913031 -1.572591       0\n",
       "2  3.081044 -3.192988  1.036201 -0.610738  1.484757       1\n",
       "3  2.415303 -1.601202 -1.926245 -2.713822  1.920054       1\n",
       "4 -0.534907 -1.086803 -1.404272 -0.494933  2.711198       1"
      ]
     },
     "execution_count": 3,
     "metadata": {},
     "output_type": "execute_result"
    }
   ],
   "source": [
    "df = pd.DataFrame(X,columns=['col1','col2','col3','col4','col5'])\n",
    "df['target'] = y\n",
    "print(df.shape)\n",
    "df.head()"
   ]
  },
  {
   "cell_type": "code",
   "execution_count": 4,
   "id": "f93af4dd",
   "metadata": {},
   "outputs": [],
   "source": [
    "# function for row sampling\n",
    "\n",
    "def sample_rows(df,percent):\n",
    "  return df.sample(int(percent*df.shape[0]),replace=True)"
   ]
  },
  {
   "cell_type": "code",
   "execution_count": 5,
   "id": "e287b6e3",
   "metadata": {},
   "outputs": [],
   "source": [
    "# function for feature sampling\n",
    "def sample_features(df,percent):\n",
    "  cols = random.sample(df.columns.tolist()[:-1],int(percent*(df.shape[1]-1)))\n",
    "  new_df = df[cols]\n",
    "  new_df['target'] = df['target']\n",
    "  return new_df"
   ]
  },
  {
   "cell_type": "code",
   "execution_count": 6,
   "id": "600567e1",
   "metadata": {},
   "outputs": [],
   "source": [
    "# function for combined sampling\n",
    "\n",
    "def combined_sampling(df,row_percent,col_percent):\n",
    "  new_df = sample_rows(df,row_percent)\n",
    "  return sample_features(new_df,col_percent)"
   ]
  },
  {
   "cell_type": "code",
   "execution_count": 7,
   "id": "886bdd9f",
   "metadata": {},
   "outputs": [
    {
     "name": "stderr",
     "output_type": "stream",
     "text": [
      "C:\\Users\\91975\\AppData\\Local\\Temp\\ipykernel_17996\\3275485051.py:5: SettingWithCopyWarning: \n",
      "A value is trying to be set on a copy of a slice from a DataFrame.\n",
      "Try using .loc[row_indexer,col_indexer] = value instead\n",
      "\n",
      "See the caveats in the documentation: https://pandas.pydata.org/pandas-docs/stable/user_guide/indexing.html#returning-a-view-versus-a-copy\n",
      "  new_df['target'] = df['target']\n"
     ]
    }
   ],
   "source": [
    "df1 = combined_sampling(df,0.5,0.5)"
   ]
  },
  {
   "cell_type": "code",
   "execution_count": 8,
   "id": "5fdc8a6e",
   "metadata": {},
   "outputs": [
    {
     "name": "stderr",
     "output_type": "stream",
     "text": [
      "C:\\Users\\91975\\AppData\\Local\\Temp\\ipykernel_17996\\3275485051.py:5: SettingWithCopyWarning: \n",
      "A value is trying to be set on a copy of a slice from a DataFrame.\n",
      "Try using .loc[row_indexer,col_indexer] = value instead\n",
      "\n",
      "See the caveats in the documentation: https://pandas.pydata.org/pandas-docs/stable/user_guide/indexing.html#returning-a-view-versus-a-copy\n",
      "  new_df['target'] = df['target']\n"
     ]
    }
   ],
   "source": [
    "df2 = combined_sampling(df,0.5,0.5)"
   ]
  },
  {
   "cell_type": "code",
   "execution_count": 9,
   "id": "03e3609c",
   "metadata": {},
   "outputs": [
    {
     "name": "stderr",
     "output_type": "stream",
     "text": [
      "C:\\Users\\91975\\AppData\\Local\\Temp\\ipykernel_17996\\3275485051.py:5: SettingWithCopyWarning: \n",
      "A value is trying to be set on a copy of a slice from a DataFrame.\n",
      "Try using .loc[row_indexer,col_indexer] = value instead\n",
      "\n",
      "See the caveats in the documentation: https://pandas.pydata.org/pandas-docs/stable/user_guide/indexing.html#returning-a-view-versus-a-copy\n",
      "  new_df['target'] = df['target']\n"
     ]
    }
   ],
   "source": [
    "df3 = combined_sampling(df,0.5,0.5)"
   ]
  },
  {
   "cell_type": "code",
   "execution_count": 10,
   "id": "82627c94",
   "metadata": {},
   "outputs": [
    {
     "name": "stdout",
     "output_type": "stream",
     "text": [
      "Index(['col5', 'col2', 'target'], dtype='object')\n",
      "Index(['col4', 'col2', 'target'], dtype='object')\n",
      "Index(['col2', 'col3', 'target'], dtype='object')\n"
     ]
    }
   ],
   "source": [
    "print(df1.columns)\n",
    "print(df2.columns)\n",
    "print(df3.columns)"
   ]
  },
  {
   "cell_type": "code",
   "execution_count": 11,
   "id": "e506cb0f",
   "metadata": {},
   "outputs": [
    {
     "data": {
      "text/html": [
       "<div>\n",
       "<style scoped>\n",
       "    .dataframe tbody tr th:only-of-type {\n",
       "        vertical-align: middle;\n",
       "    }\n",
       "\n",
       "    .dataframe tbody tr th {\n",
       "        vertical-align: top;\n",
       "    }\n",
       "\n",
       "    .dataframe thead th {\n",
       "        text-align: right;\n",
       "    }\n",
       "</style>\n",
       "<table border=\"1\" class=\"dataframe\">\n",
       "  <thead>\n",
       "    <tr style=\"text-align: right;\">\n",
       "      <th></th>\n",
       "      <th>col2</th>\n",
       "      <th>col3</th>\n",
       "      <th>target</th>\n",
       "    </tr>\n",
       "  </thead>\n",
       "  <tbody>\n",
       "    <tr>\n",
       "      <th>37</th>\n",
       "      <td>-3.552776</td>\n",
       "      <td>-0.267578</td>\n",
       "      <td>1</td>\n",
       "    </tr>\n",
       "    <tr>\n",
       "      <th>54</th>\n",
       "      <td>-1.092905</td>\n",
       "      <td>0.299277</td>\n",
       "      <td>0</td>\n",
       "    </tr>\n",
       "    <tr>\n",
       "      <th>59</th>\n",
       "      <td>-1.119672</td>\n",
       "      <td>-1.406248</td>\n",
       "      <td>1</td>\n",
       "    </tr>\n",
       "    <tr>\n",
       "      <th>11</th>\n",
       "      <td>0.075481</td>\n",
       "      <td>-0.136642</td>\n",
       "      <td>1</td>\n",
       "    </tr>\n",
       "    <tr>\n",
       "      <th>69</th>\n",
       "      <td>0.610065</td>\n",
       "      <td>-0.303042</td>\n",
       "      <td>0</td>\n",
       "    </tr>\n",
       "    <tr>\n",
       "      <th>33</th>\n",
       "      <td>2.314903</td>\n",
       "      <td>-0.820219</td>\n",
       "      <td>0</td>\n",
       "    </tr>\n",
       "    <tr>\n",
       "      <th>36</th>\n",
       "      <td>-1.626718</td>\n",
       "      <td>-2.454079</td>\n",
       "      <td>1</td>\n",
       "    </tr>\n",
       "    <tr>\n",
       "      <th>15</th>\n",
       "      <td>2.188986</td>\n",
       "      <td>-0.944937</td>\n",
       "      <td>0</td>\n",
       "    </tr>\n",
       "    <tr>\n",
       "      <th>87</th>\n",
       "      <td>-0.620744</td>\n",
       "      <td>0.195413</td>\n",
       "      <td>1</td>\n",
       "    </tr>\n",
       "    <tr>\n",
       "      <th>13</th>\n",
       "      <td>-1.570930</td>\n",
       "      <td>0.367988</td>\n",
       "      <td>1</td>\n",
       "    </tr>\n",
       "    <tr>\n",
       "      <th>12</th>\n",
       "      <td>-2.523525</td>\n",
       "      <td>-3.525257</td>\n",
       "      <td>1</td>\n",
       "    </tr>\n",
       "    <tr>\n",
       "      <th>43</th>\n",
       "      <td>0.633934</td>\n",
       "      <td>-0.088211</td>\n",
       "      <td>0</td>\n",
       "    </tr>\n",
       "    <tr>\n",
       "      <th>51</th>\n",
       "      <td>-1.170065</td>\n",
       "      <td>-1.154478</td>\n",
       "      <td>1</td>\n",
       "    </tr>\n",
       "    <tr>\n",
       "      <th>80</th>\n",
       "      <td>-0.185490</td>\n",
       "      <td>-1.740572</td>\n",
       "      <td>0</td>\n",
       "    </tr>\n",
       "    <tr>\n",
       "      <th>83</th>\n",
       "      <td>1.194635</td>\n",
       "      <td>-0.194107</td>\n",
       "      <td>0</td>\n",
       "    </tr>\n",
       "    <tr>\n",
       "      <th>79</th>\n",
       "      <td>1.248478</td>\n",
       "      <td>-2.424298</td>\n",
       "      <td>1</td>\n",
       "    </tr>\n",
       "    <tr>\n",
       "      <th>18</th>\n",
       "      <td>-0.885640</td>\n",
       "      <td>0.657852</td>\n",
       "      <td>1</td>\n",
       "    </tr>\n",
       "    <tr>\n",
       "      <th>16</th>\n",
       "      <td>0.165382</td>\n",
       "      <td>1.086464</td>\n",
       "      <td>0</td>\n",
       "    </tr>\n",
       "    <tr>\n",
       "      <th>69</th>\n",
       "      <td>0.610065</td>\n",
       "      <td>-0.303042</td>\n",
       "      <td>0</td>\n",
       "    </tr>\n",
       "    <tr>\n",
       "      <th>73</th>\n",
       "      <td>0.397793</td>\n",
       "      <td>-1.017709</td>\n",
       "      <td>1</td>\n",
       "    </tr>\n",
       "    <tr>\n",
       "      <th>94</th>\n",
       "      <td>1.359862</td>\n",
       "      <td>-0.019955</td>\n",
       "      <td>0</td>\n",
       "    </tr>\n",
       "    <tr>\n",
       "      <th>34</th>\n",
       "      <td>-0.390459</td>\n",
       "      <td>-1.989557</td>\n",
       "      <td>1</td>\n",
       "    </tr>\n",
       "    <tr>\n",
       "      <th>1</th>\n",
       "      <td>1.581011</td>\n",
       "      <td>-0.878882</td>\n",
       "      <td>0</td>\n",
       "    </tr>\n",
       "    <tr>\n",
       "      <th>54</th>\n",
       "      <td>-1.092905</td>\n",
       "      <td>0.299277</td>\n",
       "      <td>0</td>\n",
       "    </tr>\n",
       "    <tr>\n",
       "      <th>28</th>\n",
       "      <td>-3.224280</td>\n",
       "      <td>-3.610640</td>\n",
       "      <td>1</td>\n",
       "    </tr>\n",
       "    <tr>\n",
       "      <th>18</th>\n",
       "      <td>-0.885640</td>\n",
       "      <td>0.657852</td>\n",
       "      <td>1</td>\n",
       "    </tr>\n",
       "    <tr>\n",
       "      <th>0</th>\n",
       "      <td>-2.185507</td>\n",
       "      <td>-1.617694</td>\n",
       "      <td>1</td>\n",
       "    </tr>\n",
       "    <tr>\n",
       "      <th>8</th>\n",
       "      <td>3.615164</td>\n",
       "      <td>-2.291011</td>\n",
       "      <td>0</td>\n",
       "    </tr>\n",
       "    <tr>\n",
       "      <th>93</th>\n",
       "      <td>-1.434131</td>\n",
       "      <td>-0.703301</td>\n",
       "      <td>1</td>\n",
       "    </tr>\n",
       "    <tr>\n",
       "      <th>48</th>\n",
       "      <td>0.345100</td>\n",
       "      <td>-1.183058</td>\n",
       "      <td>0</td>\n",
       "    </tr>\n",
       "    <tr>\n",
       "      <th>38</th>\n",
       "      <td>-1.586687</td>\n",
       "      <td>-1.164707</td>\n",
       "      <td>1</td>\n",
       "    </tr>\n",
       "    <tr>\n",
       "      <th>39</th>\n",
       "      <td>-0.788066</td>\n",
       "      <td>-1.517880</td>\n",
       "      <td>0</td>\n",
       "    </tr>\n",
       "    <tr>\n",
       "      <th>37</th>\n",
       "      <td>-3.552776</td>\n",
       "      <td>-0.267578</td>\n",
       "      <td>1</td>\n",
       "    </tr>\n",
       "    <tr>\n",
       "      <th>33</th>\n",
       "      <td>2.314903</td>\n",
       "      <td>-0.820219</td>\n",
       "      <td>0</td>\n",
       "    </tr>\n",
       "    <tr>\n",
       "      <th>14</th>\n",
       "      <td>-0.513474</td>\n",
       "      <td>-3.654275</td>\n",
       "      <td>1</td>\n",
       "    </tr>\n",
       "    <tr>\n",
       "      <th>20</th>\n",
       "      <td>-0.133435</td>\n",
       "      <td>0.532671</td>\n",
       "      <td>1</td>\n",
       "    </tr>\n",
       "    <tr>\n",
       "      <th>4</th>\n",
       "      <td>-1.086803</td>\n",
       "      <td>-1.404272</td>\n",
       "      <td>1</td>\n",
       "    </tr>\n",
       "    <tr>\n",
       "      <th>24</th>\n",
       "      <td>-0.221178</td>\n",
       "      <td>-0.503698</td>\n",
       "      <td>1</td>\n",
       "    </tr>\n",
       "    <tr>\n",
       "      <th>46</th>\n",
       "      <td>2.485640</td>\n",
       "      <td>-1.104865</td>\n",
       "      <td>0</td>\n",
       "    </tr>\n",
       "    <tr>\n",
       "      <th>17</th>\n",
       "      <td>0.366485</td>\n",
       "      <td>-2.179917</td>\n",
       "      <td>1</td>\n",
       "    </tr>\n",
       "    <tr>\n",
       "      <th>59</th>\n",
       "      <td>-1.119672</td>\n",
       "      <td>-1.406248</td>\n",
       "      <td>1</td>\n",
       "    </tr>\n",
       "    <tr>\n",
       "      <th>33</th>\n",
       "      <td>2.314903</td>\n",
       "      <td>-0.820219</td>\n",
       "      <td>0</td>\n",
       "    </tr>\n",
       "    <tr>\n",
       "      <th>62</th>\n",
       "      <td>0.418262</td>\n",
       "      <td>-1.442494</td>\n",
       "      <td>0</td>\n",
       "    </tr>\n",
       "    <tr>\n",
       "      <th>27</th>\n",
       "      <td>2.023908</td>\n",
       "      <td>-1.444773</td>\n",
       "      <td>0</td>\n",
       "    </tr>\n",
       "    <tr>\n",
       "      <th>45</th>\n",
       "      <td>-0.379441</td>\n",
       "      <td>-0.839175</td>\n",
       "      <td>0</td>\n",
       "    </tr>\n",
       "    <tr>\n",
       "      <th>90</th>\n",
       "      <td>-1.238777</td>\n",
       "      <td>0.288441</td>\n",
       "      <td>1</td>\n",
       "    </tr>\n",
       "    <tr>\n",
       "      <th>90</th>\n",
       "      <td>-1.238777</td>\n",
       "      <td>0.288441</td>\n",
       "      <td>1</td>\n",
       "    </tr>\n",
       "    <tr>\n",
       "      <th>89</th>\n",
       "      <td>0.354593</td>\n",
       "      <td>-0.104683</td>\n",
       "      <td>0</td>\n",
       "    </tr>\n",
       "    <tr>\n",
       "      <th>47</th>\n",
       "      <td>0.042521</td>\n",
       "      <td>0.722865</td>\n",
       "      <td>1</td>\n",
       "    </tr>\n",
       "    <tr>\n",
       "      <th>43</th>\n",
       "      <td>0.633934</td>\n",
       "      <td>-0.088211</td>\n",
       "      <td>0</td>\n",
       "    </tr>\n",
       "  </tbody>\n",
       "</table>\n",
       "</div>"
      ],
      "text/plain": [
       "        col2      col3  target\n",
       "37 -3.552776 -0.267578       1\n",
       "54 -1.092905  0.299277       0\n",
       "59 -1.119672 -1.406248       1\n",
       "11  0.075481 -0.136642       1\n",
       "69  0.610065 -0.303042       0\n",
       "33  2.314903 -0.820219       0\n",
       "36 -1.626718 -2.454079       1\n",
       "15  2.188986 -0.944937       0\n",
       "87 -0.620744  0.195413       1\n",
       "13 -1.570930  0.367988       1\n",
       "12 -2.523525 -3.525257       1\n",
       "43  0.633934 -0.088211       0\n",
       "51 -1.170065 -1.154478       1\n",
       "80 -0.185490 -1.740572       0\n",
       "83  1.194635 -0.194107       0\n",
       "79  1.248478 -2.424298       1\n",
       "18 -0.885640  0.657852       1\n",
       "16  0.165382  1.086464       0\n",
       "69  0.610065 -0.303042       0\n",
       "73  0.397793 -1.017709       1\n",
       "94  1.359862 -0.019955       0\n",
       "34 -0.390459 -1.989557       1\n",
       "1   1.581011 -0.878882       0\n",
       "54 -1.092905  0.299277       0\n",
       "28 -3.224280 -3.610640       1\n",
       "18 -0.885640  0.657852       1\n",
       "0  -2.185507 -1.617694       1\n",
       "8   3.615164 -2.291011       0\n",
       "93 -1.434131 -0.703301       1\n",
       "48  0.345100 -1.183058       0\n",
       "38 -1.586687 -1.164707       1\n",
       "39 -0.788066 -1.517880       0\n",
       "37 -3.552776 -0.267578       1\n",
       "33  2.314903 -0.820219       0\n",
       "14 -0.513474 -3.654275       1\n",
       "20 -0.133435  0.532671       1\n",
       "4  -1.086803 -1.404272       1\n",
       "24 -0.221178 -0.503698       1\n",
       "46  2.485640 -1.104865       0\n",
       "17  0.366485 -2.179917       1\n",
       "59 -1.119672 -1.406248       1\n",
       "33  2.314903 -0.820219       0\n",
       "62  0.418262 -1.442494       0\n",
       "27  2.023908 -1.444773       0\n",
       "45 -0.379441 -0.839175       0\n",
       "90 -1.238777  0.288441       1\n",
       "90 -1.238777  0.288441       1\n",
       "89  0.354593 -0.104683       0\n",
       "47  0.042521  0.722865       1\n",
       "43  0.633934 -0.088211       0"
      ]
     },
     "execution_count": 11,
     "metadata": {},
     "output_type": "execute_result"
    }
   ],
   "source": [
    "df3"
   ]
  },
  {
   "cell_type": "code",
   "execution_count": 12,
   "id": "16a7d272",
   "metadata": {},
   "outputs": [],
   "source": [
    "from sklearn.tree import DecisionTreeClassifier\n",
    "clf1 = DecisionTreeClassifier()\n",
    "clf2 = DecisionTreeClassifier()\n",
    "clf3 = DecisionTreeClassifier()"
   ]
  },
  {
   "cell_type": "code",
   "execution_count": 13,
   "id": "79528f4b",
   "metadata": {},
   "outputs": [
    {
     "data": {
      "text/html": [
       "<style>#sk-container-id-1 {color: black;background-color: white;}#sk-container-id-1 pre{padding: 0;}#sk-container-id-1 div.sk-toggleable {background-color: white;}#sk-container-id-1 label.sk-toggleable__label {cursor: pointer;display: block;width: 100%;margin-bottom: 0;padding: 0.3em;box-sizing: border-box;text-align: center;}#sk-container-id-1 label.sk-toggleable__label-arrow:before {content: \"▸\";float: left;margin-right: 0.25em;color: #696969;}#sk-container-id-1 label.sk-toggleable__label-arrow:hover:before {color: black;}#sk-container-id-1 div.sk-estimator:hover label.sk-toggleable__label-arrow:before {color: black;}#sk-container-id-1 div.sk-toggleable__content {max-height: 0;max-width: 0;overflow: hidden;text-align: left;background-color: #f0f8ff;}#sk-container-id-1 div.sk-toggleable__content pre {margin: 0.2em;color: black;border-radius: 0.25em;background-color: #f0f8ff;}#sk-container-id-1 input.sk-toggleable__control:checked~div.sk-toggleable__content {max-height: 200px;max-width: 100%;overflow: auto;}#sk-container-id-1 input.sk-toggleable__control:checked~label.sk-toggleable__label-arrow:before {content: \"▾\";}#sk-container-id-1 div.sk-estimator input.sk-toggleable__control:checked~label.sk-toggleable__label {background-color: #d4ebff;}#sk-container-id-1 div.sk-label input.sk-toggleable__control:checked~label.sk-toggleable__label {background-color: #d4ebff;}#sk-container-id-1 input.sk-hidden--visually {border: 0;clip: rect(1px 1px 1px 1px);clip: rect(1px, 1px, 1px, 1px);height: 1px;margin: -1px;overflow: hidden;padding: 0;position: absolute;width: 1px;}#sk-container-id-1 div.sk-estimator {font-family: monospace;background-color: #f0f8ff;border: 1px dotted black;border-radius: 0.25em;box-sizing: border-box;margin-bottom: 0.5em;}#sk-container-id-1 div.sk-estimator:hover {background-color: #d4ebff;}#sk-container-id-1 div.sk-parallel-item::after {content: \"\";width: 100%;border-bottom: 1px solid gray;flex-grow: 1;}#sk-container-id-1 div.sk-label:hover label.sk-toggleable__label {background-color: #d4ebff;}#sk-container-id-1 div.sk-serial::before {content: \"\";position: absolute;border-left: 1px solid gray;box-sizing: border-box;top: 0;bottom: 0;left: 50%;z-index: 0;}#sk-container-id-1 div.sk-serial {display: flex;flex-direction: column;align-items: center;background-color: white;padding-right: 0.2em;padding-left: 0.2em;position: relative;}#sk-container-id-1 div.sk-item {position: relative;z-index: 1;}#sk-container-id-1 div.sk-parallel {display: flex;align-items: stretch;justify-content: center;background-color: white;position: relative;}#sk-container-id-1 div.sk-item::before, #sk-container-id-1 div.sk-parallel-item::before {content: \"\";position: absolute;border-left: 1px solid gray;box-sizing: border-box;top: 0;bottom: 0;left: 50%;z-index: -1;}#sk-container-id-1 div.sk-parallel-item {display: flex;flex-direction: column;z-index: 1;position: relative;background-color: white;}#sk-container-id-1 div.sk-parallel-item:first-child::after {align-self: flex-end;width: 50%;}#sk-container-id-1 div.sk-parallel-item:last-child::after {align-self: flex-start;width: 50%;}#sk-container-id-1 div.sk-parallel-item:only-child::after {width: 0;}#sk-container-id-1 div.sk-dashed-wrapped {border: 1px dashed gray;margin: 0 0.4em 0.5em 0.4em;box-sizing: border-box;padding-bottom: 0.4em;background-color: white;}#sk-container-id-1 div.sk-label label {font-family: monospace;font-weight: bold;display: inline-block;line-height: 1.2em;}#sk-container-id-1 div.sk-label-container {text-align: center;}#sk-container-id-1 div.sk-container {/* jupyter's `normalize.less` sets `[hidden] { display: none; }` but bootstrap.min.css set `[hidden] { display: none !important; }` so we also need the `!important` here to be able to override the default hidden behavior on the sphinx rendered scikit-learn.org. See: https://github.com/scikit-learn/scikit-learn/issues/21755 */display: inline-block !important;position: relative;}#sk-container-id-1 div.sk-text-repr-fallback {display: none;}</style><div id=\"sk-container-id-1\" class=\"sk-top-container\"><div class=\"sk-text-repr-fallback\"><pre>DecisionTreeClassifier()</pre><b>In a Jupyter environment, please rerun this cell to show the HTML representation or trust the notebook. <br />On GitHub, the HTML representation is unable to render, please try loading this page with nbviewer.org.</b></div><div class=\"sk-container\" hidden><div class=\"sk-item\"><div class=\"sk-estimator sk-toggleable\"><input class=\"sk-toggleable__control sk-hidden--visually\" id=\"sk-estimator-id-1\" type=\"checkbox\" checked><label for=\"sk-estimator-id-1\" class=\"sk-toggleable__label sk-toggleable__label-arrow\">DecisionTreeClassifier</label><div class=\"sk-toggleable__content\"><pre>DecisionTreeClassifier()</pre></div></div></div></div></div>"
      ],
      "text/plain": [
       "DecisionTreeClassifier()"
      ]
     },
     "execution_count": 13,
     "metadata": {},
     "output_type": "execute_result"
    }
   ],
   "source": [
    "clf1.fit(df1.iloc[:,0:2],df1.iloc[:,-1])\n",
    "clf2.fit(df2.iloc[:,0:2],df2.iloc[:,-1])\n",
    "clf3.fit(df3.iloc[:,0:2],df3.iloc[:,-1])"
   ]
  },
  {
   "cell_type": "code",
   "execution_count": 14,
   "id": "fb278b55",
   "metadata": {},
   "outputs": [
    {
     "data": {
      "text/plain": [
       "[Text(0.6666666666666666, 0.9285714285714286, 'x[0] <= 0.236\\ngini = 0.497\\nsamples = 50\\nvalue = [27, 23]'),\n",
       " Text(0.5, 0.7857142857142857, 'x[1] <= -2.236\\ngini = 0.264\\nsamples = 32\\nvalue = [27, 5]'),\n",
       " Text(0.3333333333333333, 0.6428571428571429, 'gini = 0.0\\nsamples = 2\\nvalue = [0, 2]'),\n",
       " Text(0.6666666666666666, 0.6428571428571429, 'x[1] <= 0.408\\ngini = 0.18\\nsamples = 30\\nvalue = [27, 3]'),\n",
       " Text(0.5, 0.5, 'x[1] <= 0.266\\ngini = 0.42\\nsamples = 10\\nvalue = [7, 3]'),\n",
       " Text(0.3333333333333333, 0.35714285714285715, 'x[0] <= -0.245\\ngini = 0.219\\nsamples = 8\\nvalue = [7, 1]'),\n",
       " Text(0.16666666666666666, 0.21428571428571427, 'gini = 0.0\\nsamples = 5\\nvalue = [5, 0]'),\n",
       " Text(0.5, 0.21428571428571427, 'x[0] <= -0.169\\ngini = 0.444\\nsamples = 3\\nvalue = [2, 1]'),\n",
       " Text(0.3333333333333333, 0.07142857142857142, 'gini = 0.0\\nsamples = 1\\nvalue = [0, 1]'),\n",
       " Text(0.6666666666666666, 0.07142857142857142, 'gini = 0.0\\nsamples = 2\\nvalue = [2, 0]'),\n",
       " Text(0.6666666666666666, 0.35714285714285715, 'gini = 0.0\\nsamples = 2\\nvalue = [0, 2]'),\n",
       " Text(0.8333333333333334, 0.5, 'gini = 0.0\\nsamples = 20\\nvalue = [20, 0]'),\n",
       " Text(0.8333333333333334, 0.7857142857142857, 'gini = 0.0\\nsamples = 18\\nvalue = [0, 18]')]"
      ]
     },
     "execution_count": 14,
     "metadata": {},
     "output_type": "execute_result"
    },
    {
     "data": {
      "image/png": "[encoded data removed]",
      "text/plain": [
       "<Figure size 640x480 with 1 Axes>"
      ]
     },
     "metadata": {},
     "output_type": "display_data"
    }
   ],
   "source": [
    "from sklearn.tree import plot_tree\n",
    "plot_tree(clf1)"
   ]
  },
  {
   "cell_type": "code",
   "execution_count": 15,
   "id": "21240e65",
   "metadata": {},
   "outputs": [
    {
     "data": {
      "text/plain": [
       "[Text(0.5, 0.9285714285714286, 'x[0] <= -0.344\\ngini = 0.487\\nsamples = 50\\nvalue = [29, 21]'),\n",
       " Text(0.25, 0.7857142857142857, 'x[1] <= 1.867\\ngini = 0.111\\nsamples = 17\\nvalue = [1, 16]'),\n",
       " Text(0.125, 0.6428571428571429, 'gini = 0.0\\nsamples = 16\\nvalue = [0, 16]'),\n",
       " Text(0.375, 0.6428571428571429, 'gini = 0.0\\nsamples = 1\\nvalue = [1, 0]'),\n",
       " Text(0.75, 0.7857142857142857, 'x[1] <= 0.098\\ngini = 0.257\\nsamples = 33\\nvalue = [28, 5]'),\n",
       " Text(0.625, 0.6428571428571429, 'x[0] <= 1.539\\ngini = 0.486\\nsamples = 12\\nvalue = [7, 5]'),\n",
       " Text(0.5, 0.5, 'x[1] <= -0.267\\ngini = 0.408\\nsamples = 7\\nvalue = [2, 5]'),\n",
       " Text(0.375, 0.35714285714285715, 'gini = 0.0\\nsamples = 1\\nvalue = [1, 0]'),\n",
       " Text(0.625, 0.35714285714285715, 'x[1] <= -0.089\\ngini = 0.278\\nsamples = 6\\nvalue = [1, 5]'),\n",
       " Text(0.5, 0.21428571428571427, 'gini = 0.0\\nsamples = 4\\nvalue = [0, 4]'),\n",
       " Text(0.75, 0.21428571428571427, 'x[1] <= -0.007\\ngini = 0.5\\nsamples = 2\\nvalue = [1, 1]'),\n",
       " Text(0.625, 0.07142857142857142, 'gini = 0.0\\nsamples = 1\\nvalue = [1, 0]'),\n",
       " Text(0.875, 0.07142857142857142, 'gini = 0.0\\nsamples = 1\\nvalue = [0, 1]'),\n",
       " Text(0.75, 0.5, 'gini = 0.0\\nsamples = 5\\nvalue = [5, 0]'),\n",
       " Text(0.875, 0.6428571428571429, 'gini = 0.0\\nsamples = 21\\nvalue = [21, 0]')]"
      ]
     },
     "execution_count": 15,
     "metadata": {},
     "output_type": "execute_result"
    },
    {
     "data": {
      "image/png": "[encoded data removed]",
      "text/plain": [
       "<Figure size 640x480 with 1 Axes>"
      ]
     },
     "metadata": {},
     "output_type": "display_data"
    }
   ],
   "source": [
    "plot_tree(clf2)"
   ]
  },
  {
   "cell_type": "code",
   "execution_count": 16,
   "id": "e51cf6e5",
   "metadata": {},
   "outputs": [
    {
     "data": {
      "text/plain": [
       "[Text(0.4230769230769231, 0.9285714285714286, 'x[0] <= 0.12\\ngini = 0.497\\nsamples = 50\\nvalue = [23, 27]'),\n",
       " Text(0.15384615384615385, 0.7857142857142857, 'x[0] <= -1.106\\ngini = 0.285\\nsamples = 29\\nvalue = [5, 24]'),\n",
       " Text(0.07692307692307693, 0.6428571428571429, 'gini = 0.0\\nsamples = 14\\nvalue = [0, 14]'),\n",
       " Text(0.23076923076923078, 0.6428571428571429, 'x[0] <= -1.09\\ngini = 0.444\\nsamples = 15\\nvalue = [5, 10]'),\n",
       " Text(0.15384615384615385, 0.5, 'gini = 0.0\\nsamples = 2\\nvalue = [2, 0]'),\n",
       " Text(0.3076923076923077, 0.5, 'x[1] <= -0.671\\ngini = 0.355\\nsamples = 13\\nvalue = [3, 10]'),\n",
       " Text(0.23076923076923078, 0.35714285714285715, 'x[1] <= -1.865\\ngini = 0.5\\nsamples = 6\\nvalue = [3, 3]'),\n",
       " Text(0.15384615384615385, 0.21428571428571427, 'gini = 0.0\\nsamples = 2\\nvalue = [0, 2]'),\n",
       " Text(0.3076923076923077, 0.21428571428571427, 'x[0] <= -0.937\\ngini = 0.375\\nsamples = 4\\nvalue = [3, 1]'),\n",
       " Text(0.23076923076923078, 0.07142857142857142, 'gini = 0.0\\nsamples = 1\\nvalue = [0, 1]'),\n",
       " Text(0.38461538461538464, 0.07142857142857142, 'gini = 0.0\\nsamples = 3\\nvalue = [3, 0]'),\n",
       " Text(0.38461538461538464, 0.35714285714285715, 'gini = 0.0\\nsamples = 7\\nvalue = [0, 7]'),\n",
       " Text(0.6923076923076923, 0.7857142857142857, 'x[1] <= -1.812\\ngini = 0.245\\nsamples = 21\\nvalue = [18, 3]'),\n",
       " Text(0.5384615384615384, 0.6428571428571429, 'x[0] <= 2.432\\ngini = 0.444\\nsamples = 3\\nvalue = [1, 2]'),\n",
       " Text(0.46153846153846156, 0.5, 'gini = 0.0\\nsamples = 2\\nvalue = [0, 2]'),\n",
       " Text(0.6153846153846154, 0.5, 'gini = 0.0\\nsamples = 1\\nvalue = [1, 0]'),\n",
       " Text(0.8461538461538461, 0.6428571428571429, 'x[0] <= 0.408\\ngini = 0.105\\nsamples = 18\\nvalue = [17, 1]'),\n",
       " Text(0.7692307692307693, 0.5, 'x[0] <= 0.376\\ngini = 0.375\\nsamples = 4\\nvalue = [3, 1]'),\n",
       " Text(0.6923076923076923, 0.35714285714285715, 'gini = 0.0\\nsamples = 3\\nvalue = [3, 0]'),\n",
       " Text(0.8461538461538461, 0.35714285714285715, 'gini = 0.0\\nsamples = 1\\nvalue = [0, 1]'),\n",
       " Text(0.9230769230769231, 0.5, 'gini = 0.0\\nsamples = 14\\nvalue = [14, 0]')]"
      ]
     },
     "execution_count": 16,
     "metadata": {},
     "output_type": "execute_result"
    },
    {
     "data": {
      "image/png": "[encoded data removed]",
      "text/plain": [
       "<Figure size 640x480 with 1 Axes>"
      ]
     },
     "metadata": {},
     "output_type": "display_data"
    }
   ],
   "source": [
    "plot_tree(clf3)"
   ]
  },
  {
   "cell_type": "code",
   "execution_count": 17,
   "id": "89045d2a",
   "metadata": {},
   "outputs": [
    {
     "name": "stderr",
     "output_type": "stream",
     "text": [
      "C:\\Users\\91975\\anaconda3\\lib\\site-packages\\sklearn\\base.py:420: UserWarning: X does not have valid feature names, but DecisionTreeClassifier was fitted with feature names\n",
      "  warnings.warn(\n"
     ]
    },
    {
     "data": {
      "text/plain": [
       "array([0])"
      ]
     },
     "execution_count": 17,
     "metadata": {},
     "output_type": "execute_result"
    }
   ],
   "source": [
    "clf1.predict(np.array([-1.042498,\t-0.064323]).reshape(1,2))"
   ]
  },
  {
   "cell_type": "code",
   "execution_count": 18,
   "id": "3ef5d01c",
   "metadata": {},
   "outputs": [
    {
     "name": "stderr",
     "output_type": "stream",
     "text": [
      "C:\\Users\\91975\\anaconda3\\lib\\site-packages\\sklearn\\base.py:420: UserWarning: X does not have valid feature names, but DecisionTreeClassifier was fitted with feature names\n",
      "  warnings.warn(\n"
     ]
    },
    {
     "data": {
      "text/plain": [
       "array([1])"
      ]
     },
     "execution_count": 18,
     "metadata": {},
     "output_type": "execute_result"
    }
   ],
   "source": [
    "clf2.predict(np.array([-1.042498,\t-0.064323]).reshape(1,2))"
   ]
  },
  {
   "cell_type": "code",
   "execution_count": 19,
   "id": "897a95b3",
   "metadata": {},
   "outputs": [
    {
     "name": "stderr",
     "output_type": "stream",
     "text": [
      "C:\\Users\\91975\\anaconda3\\lib\\site-packages\\sklearn\\base.py:420: UserWarning: X does not have valid feature names, but DecisionTreeClassifier was fitted with feature names\n",
      "  warnings.warn(\n"
     ]
    },
    {
     "data": {
      "text/plain": [
       "array([1])"
      ]
     },
     "execution_count": 19,
     "metadata": {},
     "output_type": "execute_result"
    }
   ],
   "source": [
    "clf3.predict(np.array([-1.042498,\t-0.064323]).reshape(1,2))"
   ]
  },
  {
   "cell_type": "code",
   "execution_count": 20,
   "id": "c4ed49ab",
   "metadata": {},
   "outputs": [
    {
     "data": {
      "text/html": [
       "<div>\n",
       "<style scoped>\n",
       "    .dataframe tbody tr th:only-of-type {\n",
       "        vertical-align: middle;\n",
       "    }\n",
       "\n",
       "    .dataframe tbody tr th {\n",
       "        vertical-align: top;\n",
       "    }\n",
       "\n",
       "    .dataframe thead th {\n",
       "        text-align: right;\n",
       "    }\n",
       "</style>\n",
       "<table border=\"1\" class=\"dataframe\">\n",
       "  <thead>\n",
       "    <tr style=\"text-align: right;\">\n",
       "      <th></th>\n",
       "      <th>col1</th>\n",
       "      <th>col2</th>\n",
       "      <th>col3</th>\n",
       "      <th>col4</th>\n",
       "      <th>col5</th>\n",
       "      <th>target</th>\n",
       "    </tr>\n",
       "  </thead>\n",
       "  <tbody>\n",
       "    <tr>\n",
       "      <th>15</th>\n",
       "      <td>-0.032791</td>\n",
       "      <td>2.188986</td>\n",
       "      <td>-0.944937</td>\n",
       "      <td>0.539920</td>\n",
       "      <td>-1.549891</td>\n",
       "      <td>0</td>\n",
       "    </tr>\n",
       "    <tr>\n",
       "      <th>5</th>\n",
       "      <td>1.070172</td>\n",
       "      <td>-0.295100</td>\n",
       "      <td>-1.323878</td>\n",
       "      <td>0.955926</td>\n",
       "      <td>-0.661528</td>\n",
       "      <td>0</td>\n",
       "    </tr>\n",
       "    <tr>\n",
       "      <th>23</th>\n",
       "      <td>1.891553</td>\n",
       "      <td>0.496687</td>\n",
       "      <td>0.255619</td>\n",
       "      <td>-0.784937</td>\n",
       "      <td>-1.792252</td>\n",
       "      <td>1</td>\n",
       "    </tr>\n",
       "    <tr>\n",
       "      <th>14</th>\n",
       "      <td>0.201964</td>\n",
       "      <td>-0.513474</td>\n",
       "      <td>-3.654275</td>\n",
       "      <td>-3.088224</td>\n",
       "      <td>-0.143476</td>\n",
       "      <td>1</td>\n",
       "    </tr>\n",
       "    <tr>\n",
       "      <th>25</th>\n",
       "      <td>2.303834</td>\n",
       "      <td>0.356751</td>\n",
       "      <td>-0.745115</td>\n",
       "      <td>-1.460227</td>\n",
       "      <td>2.377938</td>\n",
       "      <td>1</td>\n",
       "    </tr>\n",
       "    <tr>\n",
       "      <th>82</th>\n",
       "      <td>-2.180497</td>\n",
       "      <td>0.466982</td>\n",
       "      <td>-1.808525</td>\n",
       "      <td>-0.078411</td>\n",
       "      <td>0.990213</td>\n",
       "      <td>1</td>\n",
       "    </tr>\n",
       "    <tr>\n",
       "      <th>43</th>\n",
       "      <td>1.216188</td>\n",
       "      <td>0.633934</td>\n",
       "      <td>-0.088211</td>\n",
       "      <td>0.889885</td>\n",
       "      <td>-1.022955</td>\n",
       "      <td>0</td>\n",
       "    </tr>\n",
       "    <tr>\n",
       "      <th>34</th>\n",
       "      <td>1.539455</td>\n",
       "      <td>-0.390459</td>\n",
       "      <td>-1.989557</td>\n",
       "      <td>-1.867914</td>\n",
       "      <td>0.486056</td>\n",
       "      <td>1</td>\n",
       "    </tr>\n",
       "    <tr>\n",
       "      <th>18</th>\n",
       "      <td>1.881762</td>\n",
       "      <td>-0.885640</td>\n",
       "      <td>0.657852</td>\n",
       "      <td>-0.350029</td>\n",
       "      <td>-0.121357</td>\n",
       "      <td>1</td>\n",
       "    </tr>\n",
       "    <tr>\n",
       "      <th>51</th>\n",
       "      <td>1.499860</td>\n",
       "      <td>-1.170065</td>\n",
       "      <td>-1.154478</td>\n",
       "      <td>-1.749841</td>\n",
       "      <td>0.578352</td>\n",
       "      <td>1</td>\n",
       "    </tr>\n",
       "    <tr>\n",
       "      <th>75</th>\n",
       "      <td>1.483983</td>\n",
       "      <td>0.986985</td>\n",
       "      <td>-3.462005</td>\n",
       "      <td>0.956966</td>\n",
       "      <td>-1.408577</td>\n",
       "      <td>0</td>\n",
       "    </tr>\n",
       "    <tr>\n",
       "      <th>18</th>\n",
       "      <td>1.881762</td>\n",
       "      <td>-0.885640</td>\n",
       "      <td>0.657852</td>\n",
       "      <td>-0.350029</td>\n",
       "      <td>-0.121357</td>\n",
       "      <td>1</td>\n",
       "    </tr>\n",
       "    <tr>\n",
       "      <th>68</th>\n",
       "      <td>0.220593</td>\n",
       "      <td>2.628960</td>\n",
       "      <td>-1.305416</td>\n",
       "      <td>0.348394</td>\n",
       "      <td>-1.200798</td>\n",
       "      <td>0</td>\n",
       "    </tr>\n",
       "    <tr>\n",
       "      <th>41</th>\n",
       "      <td>-0.284761</td>\n",
       "      <td>2.812713</td>\n",
       "      <td>0.154776</td>\n",
       "      <td>-0.337939</td>\n",
       "      <td>-1.825974</td>\n",
       "      <td>0</td>\n",
       "    </tr>\n",
       "  </tbody>\n",
       "</table>\n",
       "</div>"
      ],
      "text/plain": [
       "        col1      col2      col3      col4      col5  target\n",
       "15 -0.032791  2.188986 -0.944937  0.539920 -1.549891       0\n",
       "5   1.070172 -0.295100 -1.323878  0.955926 -0.661528       0\n",
       "23  1.891553  0.496687  0.255619 -0.784937 -1.792252       1\n",
       "14  0.201964 -0.513474 -3.654275 -3.088224 -0.143476       1\n",
       "25  2.303834  0.356751 -0.745115 -1.460227  2.377938       1\n",
       "82 -2.180497  0.466982 -1.808525 -0.078411  0.990213       1\n",
       "43  1.216188  0.633934 -0.088211  0.889885 -1.022955       0\n",
       "34  1.539455 -0.390459 -1.989557 -1.867914  0.486056       1\n",
       "18  1.881762 -0.885640  0.657852 -0.350029 -0.121357       1\n",
       "51  1.499860 -1.170065 -1.154478 -1.749841  0.578352       1\n",
       "75  1.483983  0.986985 -3.462005  0.956966 -1.408577       0\n",
       "18  1.881762 -0.885640  0.657852 -0.350029 -0.121357       1\n",
       "68  0.220593  2.628960 -1.305416  0.348394 -1.200798       0\n",
       "41 -0.284761  2.812713  0.154776 -0.337939 -1.825974       0"
      ]
     },
     "execution_count": 20,
     "metadata": {},
     "output_type": "execute_result"
    }
   ],
   "source": [
    "df.sample(14,replace=True)"
   ]
  }
 ],
 "metadata": {
  "kernelspec": {
   "display_name": "Python 3 (ipykernel)",
   "language": "python",
   "name": "python3"
  },
  "language_info": {
   "codemirror_mode": {
    "name": "ipython",
    "version": 3
   },
   "file_extension": ".py",
   "mimetype": "text/x-python",
   "name": "python",
   "nbconvert_exporter": "python",
   "pygments_lexer": "ipython3",
   "version": "3.10.9"
  }
 },
 "nbformat": 4,
 "nbformat_minor": 5
}
