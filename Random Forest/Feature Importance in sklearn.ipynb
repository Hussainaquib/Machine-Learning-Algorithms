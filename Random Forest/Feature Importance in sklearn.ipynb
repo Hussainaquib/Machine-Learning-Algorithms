{
 "cells": [
  {
   "cell_type": "markdown",
   "id": "04ab1f65",
   "metadata": {},
   "source": [
    "## Import required library"
   ]
  },
  {
   "cell_type": "code",
   "execution_count": 1,
   "id": "cd15dfd0",
   "metadata": {},
   "outputs": [],
   "source": [
    "import pandas as pd\n",
    "import seaborn as sns"
   ]
  },
  {
   "cell_type": "markdown",
   "id": "c0904577",
   "metadata": {},
   "source": [
    "## Read csv file "
   ]
  },
  {
   "cell_type": "code",
   "execution_count": 2,
   "id": "72608740",
   "metadata": {},
   "outputs": [
    {
     "data": {
      "text/html": [
       "<div>\n",
       "<style scoped>\n",
       "    .dataframe tbody tr th:only-of-type {\n",
       "        vertical-align: middle;\n",
       "    }\n",
       "\n",
       "    .dataframe tbody tr th {\n",
       "        vertical-align: top;\n",
       "    }\n",
       "\n",
       "    .dataframe thead th {\n",
       "        text-align: right;\n",
       "    }\n",
       "</style>\n",
       "<table border=\"1\" class=\"dataframe\">\n",
       "  <thead>\n",
       "    <tr style=\"text-align: right;\">\n",
       "      <th></th>\n",
       "      <th>label</th>\n",
       "      <th>1x1</th>\n",
       "      <th>1x2</th>\n",
       "      <th>1x3</th>\n",
       "      <th>1x4</th>\n",
       "      <th>1x5</th>\n",
       "      <th>1x6</th>\n",
       "      <th>1x7</th>\n",
       "      <th>1x8</th>\n",
       "      <th>1x9</th>\n",
       "      <th>...</th>\n",
       "      <th>28x19</th>\n",
       "      <th>28x20</th>\n",
       "      <th>28x21</th>\n",
       "      <th>28x22</th>\n",
       "      <th>28x23</th>\n",
       "      <th>28x24</th>\n",
       "      <th>28x25</th>\n",
       "      <th>28x26</th>\n",
       "      <th>28x27</th>\n",
       "      <th>28x28</th>\n",
       "    </tr>\n",
       "  </thead>\n",
       "  <tbody>\n",
       "    <tr>\n",
       "      <th>0</th>\n",
       "      <td>5</td>\n",
       "      <td>0</td>\n",
       "      <td>0</td>\n",
       "      <td>0</td>\n",
       "      <td>0</td>\n",
       "      <td>0</td>\n",
       "      <td>0</td>\n",
       "      <td>0</td>\n",
       "      <td>0</td>\n",
       "      <td>0</td>\n",
       "      <td>...</td>\n",
       "      <td>0</td>\n",
       "      <td>0</td>\n",
       "      <td>0</td>\n",
       "      <td>0</td>\n",
       "      <td>0</td>\n",
       "      <td>0</td>\n",
       "      <td>0</td>\n",
       "      <td>0</td>\n",
       "      <td>0</td>\n",
       "      <td>0</td>\n",
       "    </tr>\n",
       "    <tr>\n",
       "      <th>1</th>\n",
       "      <td>0</td>\n",
       "      <td>0</td>\n",
       "      <td>0</td>\n",
       "      <td>0</td>\n",
       "      <td>0</td>\n",
       "      <td>0</td>\n",
       "      <td>0</td>\n",
       "      <td>0</td>\n",
       "      <td>0</td>\n",
       "      <td>0</td>\n",
       "      <td>...</td>\n",
       "      <td>0</td>\n",
       "      <td>0</td>\n",
       "      <td>0</td>\n",
       "      <td>0</td>\n",
       "      <td>0</td>\n",
       "      <td>0</td>\n",
       "      <td>0</td>\n",
       "      <td>0</td>\n",
       "      <td>0</td>\n",
       "      <td>0</td>\n",
       "    </tr>\n",
       "    <tr>\n",
       "      <th>2</th>\n",
       "      <td>4</td>\n",
       "      <td>0</td>\n",
       "      <td>0</td>\n",
       "      <td>0</td>\n",
       "      <td>0</td>\n",
       "      <td>0</td>\n",
       "      <td>0</td>\n",
       "      <td>0</td>\n",
       "      <td>0</td>\n",
       "      <td>0</td>\n",
       "      <td>...</td>\n",
       "      <td>0</td>\n",
       "      <td>0</td>\n",
       "      <td>0</td>\n",
       "      <td>0</td>\n",
       "      <td>0</td>\n",
       "      <td>0</td>\n",
       "      <td>0</td>\n",
       "      <td>0</td>\n",
       "      <td>0</td>\n",
       "      <td>0</td>\n",
       "    </tr>\n",
       "    <tr>\n",
       "      <th>3</th>\n",
       "      <td>1</td>\n",
       "      <td>0</td>\n",
       "      <td>0</td>\n",
       "      <td>0</td>\n",
       "      <td>0</td>\n",
       "      <td>0</td>\n",
       "      <td>0</td>\n",
       "      <td>0</td>\n",
       "      <td>0</td>\n",
       "      <td>0</td>\n",
       "      <td>...</td>\n",
       "      <td>0</td>\n",
       "      <td>0</td>\n",
       "      <td>0</td>\n",
       "      <td>0</td>\n",
       "      <td>0</td>\n",
       "      <td>0</td>\n",
       "      <td>0</td>\n",
       "      <td>0</td>\n",
       "      <td>0</td>\n",
       "      <td>0</td>\n",
       "    </tr>\n",
       "    <tr>\n",
       "      <th>4</th>\n",
       "      <td>9</td>\n",
       "      <td>0</td>\n",
       "      <td>0</td>\n",
       "      <td>0</td>\n",
       "      <td>0</td>\n",
       "      <td>0</td>\n",
       "      <td>0</td>\n",
       "      <td>0</td>\n",
       "      <td>0</td>\n",
       "      <td>0</td>\n",
       "      <td>...</td>\n",
       "      <td>0</td>\n",
       "      <td>0</td>\n",
       "      <td>0</td>\n",
       "      <td>0</td>\n",
       "      <td>0</td>\n",
       "      <td>0</td>\n",
       "      <td>0</td>\n",
       "      <td>0</td>\n",
       "      <td>0</td>\n",
       "      <td>0</td>\n",
       "    </tr>\n",
       "  </tbody>\n",
       "</table>\n",
       "<p>5 rows × 785 columns</p>\n",
       "</div>"
      ],
      "text/plain": [
       "   label  1x1  1x2  1x3  1x4  1x5  1x6  1x7  1x8  1x9  ...  28x19  28x20  \\\n",
       "0      5    0    0    0    0    0    0    0    0    0  ...      0      0   \n",
       "1      0    0    0    0    0    0    0    0    0    0  ...      0      0   \n",
       "2      4    0    0    0    0    0    0    0    0    0  ...      0      0   \n",
       "3      1    0    0    0    0    0    0    0    0    0  ...      0      0   \n",
       "4      9    0    0    0    0    0    0    0    0    0  ...      0      0   \n",
       "\n",
       "   28x21  28x22  28x23  28x24  28x25  28x26  28x27  28x28  \n",
       "0      0      0      0      0      0      0      0      0  \n",
       "1      0      0      0      0      0      0      0      0  \n",
       "2      0      0      0      0      0      0      0      0  \n",
       "3      0      0      0      0      0      0      0      0  \n",
       "4      0      0      0      0      0      0      0      0  \n",
       "\n",
       "[5 rows x 785 columns]"
      ]
     },
     "execution_count": 2,
     "metadata": {},
     "output_type": "execute_result"
    }
   ],
   "source": [
    "df = pd.read_csv('mnist_train.csv')\n",
    "df.head()"
   ]
  },
  {
   "cell_type": "code",
   "execution_count": 3,
   "id": "94fbd8ac",
   "metadata": {},
   "outputs": [],
   "source": [
    "X = df.iloc[:,1:]\n",
    "y = df.iloc[:,0]"
   ]
  },
  {
   "cell_type": "markdown",
   "id": "9c66efdd",
   "metadata": {},
   "source": [
    "## Plot the one particular image"
   ]
  },
  {
   "cell_type": "code",
   "execution_count": 4,
   "id": "c6a61e7f",
   "metadata": {},
   "outputs": [
    {
     "data": {
      "text/plain": [
       "<Axes: >"
      ]
     },
     "execution_count": 4,
     "metadata": {},
     "output_type": "execute_result"
    },
    {
     "data": {
      "image/png": "[encoded data removed]",
      "text/plain": [
       "<Figure size 640x480 with 2 Axes>"
      ]
     },
     "metadata": {},
     "output_type": "display_data"
    }
   ],
   "source": [
    "sns.heatmap(X.iloc[5].values.reshape(28,28))"
   ]
  },
  {
   "cell_type": "markdown",
   "id": "869fd8cf",
   "metadata": {},
   "source": [
    "## Train the model on whole data"
   ]
  },
  {
   "cell_type": "code",
   "execution_count": 5,
   "id": "861a18be",
   "metadata": {},
   "outputs": [
    {
     "data": {
      "text/html": [
       "<style>#sk-container-id-1 {color: black;background-color: white;}#sk-container-id-1 pre{padding: 0;}#sk-container-id-1 div.sk-toggleable {background-color: white;}#sk-container-id-1 label.sk-toggleable__label {cursor: pointer;display: block;width: 100%;margin-bottom: 0;padding: 0.3em;box-sizing: border-box;text-align: center;}#sk-container-id-1 label.sk-toggleable__label-arrow:before {content: \"▸\";float: left;margin-right: 0.25em;color: #696969;}#sk-container-id-1 label.sk-toggleable__label-arrow:hover:before {color: black;}#sk-container-id-1 div.sk-estimator:hover label.sk-toggleable__label-arrow:before {color: black;}#sk-container-id-1 div.sk-toggleable__content {max-height: 0;max-width: 0;overflow: hidden;text-align: left;background-color: #f0f8ff;}#sk-container-id-1 div.sk-toggleable__content pre {margin: 0.2em;color: black;border-radius: 0.25em;background-color: #f0f8ff;}#sk-container-id-1 input.sk-toggleable__control:checked~div.sk-toggleable__content {max-height: 200px;max-width: 100%;overflow: auto;}#sk-container-id-1 input.sk-toggleable__control:checked~label.sk-toggleable__label-arrow:before {content: \"▾\";}#sk-container-id-1 div.sk-estimator input.sk-toggleable__control:checked~label.sk-toggleable__label {background-color: #d4ebff;}#sk-container-id-1 div.sk-label input.sk-toggleable__control:checked~label.sk-toggleable__label {background-color: #d4ebff;}#sk-container-id-1 input.sk-hidden--visually {border: 0;clip: rect(1px 1px 1px 1px);clip: rect(1px, 1px, 1px, 1px);height: 1px;margin: -1px;overflow: hidden;padding: 0;position: absolute;width: 1px;}#sk-container-id-1 div.sk-estimator {font-family: monospace;background-color: #f0f8ff;border: 1px dotted black;border-radius: 0.25em;box-sizing: border-box;margin-bottom: 0.5em;}#sk-container-id-1 div.sk-estimator:hover {background-color: #d4ebff;}#sk-container-id-1 div.sk-parallel-item::after {content: \"\";width: 100%;border-bottom: 1px solid gray;flex-grow: 1;}#sk-container-id-1 div.sk-label:hover label.sk-toggleable__label {background-color: #d4ebff;}#sk-container-id-1 div.sk-serial::before {content: \"\";position: absolute;border-left: 1px solid gray;box-sizing: border-box;top: 0;bottom: 0;left: 50%;z-index: 0;}#sk-container-id-1 div.sk-serial {display: flex;flex-direction: column;align-items: center;background-color: white;padding-right: 0.2em;padding-left: 0.2em;position: relative;}#sk-container-id-1 div.sk-item {position: relative;z-index: 1;}#sk-container-id-1 div.sk-parallel {display: flex;align-items: stretch;justify-content: center;background-color: white;position: relative;}#sk-container-id-1 div.sk-item::before, #sk-container-id-1 div.sk-parallel-item::before {content: \"\";position: absolute;border-left: 1px solid gray;box-sizing: border-box;top: 0;bottom: 0;left: 50%;z-index: -1;}#sk-container-id-1 div.sk-parallel-item {display: flex;flex-direction: column;z-index: 1;position: relative;background-color: white;}#sk-container-id-1 div.sk-parallel-item:first-child::after {align-self: flex-end;width: 50%;}#sk-container-id-1 div.sk-parallel-item:last-child::after {align-self: flex-start;width: 50%;}#sk-container-id-1 div.sk-parallel-item:only-child::after {width: 0;}#sk-container-id-1 div.sk-dashed-wrapped {border: 1px dashed gray;margin: 0 0.4em 0.5em 0.4em;box-sizing: border-box;padding-bottom: 0.4em;background-color: white;}#sk-container-id-1 div.sk-label label {font-family: monospace;font-weight: bold;display: inline-block;line-height: 1.2em;}#sk-container-id-1 div.sk-label-container {text-align: center;}#sk-container-id-1 div.sk-container {/* jupyter's `normalize.less` sets `[hidden] { display: none; }` but bootstrap.min.css set `[hidden] { display: none !important; }` so we also need the `!important` here to be able to override the default hidden behavior on the sphinx rendered scikit-learn.org. See: https://github.com/scikit-learn/scikit-learn/issues/21755 */display: inline-block !important;position: relative;}#sk-container-id-1 div.sk-text-repr-fallback {display: none;}</style><div id=\"sk-container-id-1\" class=\"sk-top-container\"><div class=\"sk-text-repr-fallback\"><pre>RandomForestClassifier()</pre><b>In a Jupyter environment, please rerun this cell to show the HTML representation or trust the notebook. <br />On GitHub, the HTML representation is unable to render, please try loading this page with nbviewer.org.</b></div><div class=\"sk-container\" hidden><div class=\"sk-item\"><div class=\"sk-estimator sk-toggleable\"><input class=\"sk-toggleable__control sk-hidden--visually\" id=\"sk-estimator-id-1\" type=\"checkbox\" checked><label for=\"sk-estimator-id-1\" class=\"sk-toggleable__label sk-toggleable__label-arrow\">RandomForestClassifier</label><div class=\"sk-toggleable__content\"><pre>RandomForestClassifier()</pre></div></div></div></div></div>"
      ],
      "text/plain": [
       "RandomForestClassifier()"
      ]
     },
     "execution_count": 5,
     "metadata": {},
     "output_type": "execute_result"
    }
   ],
   "source": [
    "from sklearn.ensemble import RandomForestClassifier\n",
    "rf = RandomForestClassifier()\n",
    "rf.fit(X,y)"
   ]
  },
  {
   "cell_type": "markdown",
   "id": "1d916903",
   "metadata": {},
   "source": [
    "## Calculate importance of each features"
   ]
  },
  {
   "cell_type": "code",
   "execution_count": 6,
   "id": "13f06a3c",
   "metadata": {},
   "outputs": [
    {
     "data": {
      "text/plain": [
       "array([0.00000000e+00, 0.00000000e+00, 0.00000000e+00, 0.00000000e+00,\n",
       "       0.00000000e+00, 0.00000000e+00, 0.00000000e+00, 0.00000000e+00,\n",
       "       0.00000000e+00, 0.00000000e+00, 0.00000000e+00, 0.00000000e+00,\n",
       "       0.00000000e+00, 0.00000000e+00, 0.00000000e+00, 0.00000000e+00,\n",
       "       0.00000000e+00, 0.00000000e+00, 0.00000000e+00, 0.00000000e+00,\n",
       "       0.00000000e+00, 0.00000000e+00, 0.00000000e+00, 0.00000000e+00,\n",
       "       0.00000000e+00, 0.00000000e+00, 0.00000000e+00, 0.00000000e+00,\n",
       "       0.00000000e+00, 0.00000000e+00, 0.00000000e+00, 0.00000000e+00,\n",
       "       0.00000000e+00, 0.00000000e+00, 1.44307624e-06, 0.00000000e+00,\n",
       "       3.63097076e-07, 1.72675182e-06, 1.98462919e-06, 5.33671853e-06,\n",
       "       2.09928979e-06, 3.35967678e-06, 4.88496770e-06, 5.69093118e-06,\n",
       "       2.13064599e-06, 2.52863846e-06, 1.69637481e-06, 2.46998732e-07,\n",
       "       6.36719437e-07, 2.93720533e-06, 0.00000000e+00, 0.00000000e+00,\n",
       "       0.00000000e+00, 0.00000000e+00, 0.00000000e+00, 0.00000000e+00,\n",
       "       0.00000000e+00, 0.00000000e+00, 0.00000000e+00, 0.00000000e+00,\n",
       "       0.00000000e+00, 0.00000000e+00, 5.61011487e-06, 7.45729072e-06,\n",
       "       2.24976685e-05, 3.71482866e-05, 3.93268406e-05, 6.93196695e-05,\n",
       "       1.96244884e-04, 2.10841356e-04, 1.20767508e-04, 1.67377489e-04,\n",
       "       1.35206883e-04, 1.32329938e-04, 3.78185596e-05, 3.64622535e-05,\n",
       "       2.24202336e-05, 2.02246403e-05, 1.02685861e-05, 3.84731939e-06,\n",
       "       0.00000000e+00, 0.00000000e+00, 0.00000000e+00, 0.00000000e+00,\n",
       "       0.00000000e+00, 0.00000000e+00, 3.42575375e-07, 9.27583024e-07,\n",
       "       0.00000000e+00, 1.60958978e-06, 1.65543130e-05, 2.36516266e-05,\n",
       "       5.51417029e-05, 1.24123533e-04, 2.11690297e-04, 3.23642599e-04,\n",
       "       6.54507573e-04, 9.02619493e-04, 1.04613987e-03, 1.78089424e-03,\n",
       "       1.64840884e-03, 2.23121688e-03, 1.55690036e-03, 9.06575600e-04,\n",
       "       3.84879296e-04, 1.68415379e-04, 7.02750708e-05, 3.01964089e-05,\n",
       "       1.10342236e-05, 1.70849061e-06, 0.00000000e+00, 0.00000000e+00,\n",
       "       0.00000000e+00, 0.00000000e+00, 0.00000000e+00, 3.37564363e-06,\n",
       "       6.00269139e-06, 8.27268405e-06, 2.64157247e-05, 5.51822983e-05,\n",
       "       1.13401373e-04, 3.50978363e-04, 7.63640358e-04, 9.38818655e-04,\n",
       "       1.53962566e-03, 1.81908645e-03, 2.19653624e-03, 2.00711953e-03,\n",
       "       1.58450848e-03, 1.21619052e-03, 7.96550885e-04, 4.63758607e-04,\n",
       "       3.34033837e-04, 2.65979285e-04, 1.23102516e-04, 9.30175616e-05,\n",
       "       4.30665227e-05, 2.25337011e-05, 1.64203148e-06, 0.00000000e+00,\n",
       "       0.00000000e+00, 0.00000000e+00, 1.44977994e-06, 2.89405749e-06,\n",
       "       1.27729252e-05, 3.99418607e-05, 1.12196282e-04, 2.62680649e-04,\n",
       "       5.38011801e-04, 1.16103708e-03, 2.66025524e-03, 2.53909996e-03,\n",
       "       3.24386935e-03, 4.33563055e-03, 6.64007338e-03, 6.38759741e-03,\n",
       "       5.66290849e-03, 2.74197047e-03, 2.18897261e-03, 1.57087835e-03,\n",
       "       1.39486658e-03, 7.38177903e-04, 6.18047487e-04, 4.10364900e-04,\n",
       "       1.57591502e-04, 3.13428922e-05, 6.15558173e-06, 1.10618112e-06,\n",
       "       0.00000000e+00, 0.00000000e+00, 1.07582846e-06, 1.05794467e-05,\n",
       "       3.51745717e-05, 1.05094419e-04, 2.46710745e-04, 4.86387848e-04,\n",
       "       9.39157771e-04, 1.45454452e-03, 3.10999857e-03, 3.30876926e-03,\n",
       "       2.19734922e-03, 3.11744635e-03, 4.31294796e-03, 4.74956039e-03,\n",
       "       3.37405569e-03, 2.66810842e-03, 2.21665392e-03, 1.55478877e-03,\n",
       "       1.53352260e-03, 1.14644243e-03, 1.05833965e-03, 8.30443750e-04,\n",
       "       5.74674967e-04, 8.86687039e-05, 1.20593995e-05, 9.75970239e-07,\n",
       "       0.00000000e+00, 0.00000000e+00, 7.90369197e-07, 7.78120101e-06,\n",
       "       6.58288096e-05, 1.73591156e-04, 3.36737938e-04, 5.37934514e-04,\n",
       "       1.32943575e-03, 1.62805031e-03, 1.92824364e-03, 2.25749569e-03,\n",
       "       2.89919799e-03, 3.86965407e-03, 5.13479935e-03, 6.08032832e-03,\n",
       "       4.58912911e-03, 3.93144310e-03, 3.15249847e-03, 2.52432671e-03,\n",
       "       2.09754546e-03, 1.50135127e-03, 1.38576547e-03, 1.28097056e-03,\n",
       "       6.14398604e-04, 1.09506494e-04, 1.32253076e-05, 3.05522481e-06,\n",
       "       0.00000000e+00, 3.56213138e-07, 3.65243432e-06, 3.35981194e-05,\n",
       "       8.88330765e-05, 1.89486357e-04, 4.31742169e-04, 6.87978994e-04,\n",
       "       1.16128971e-03, 1.47399234e-03, 2.73225494e-03, 2.82730790e-03,\n",
       "       3.71225810e-03, 4.43452711e-03, 5.35638229e-03, 5.60995017e-03,\n",
       "       3.82826144e-03, 3.07834814e-03, 3.44600180e-03, 3.02219919e-03,\n",
       "       2.09894344e-03, 1.44726037e-03, 1.00695886e-03, 1.58246460e-03,\n",
       "       8.46870655e-04, 1.72780720e-04, 1.53772975e-05, 1.78142712e-06,\n",
       "       0.00000000e+00, 5.81481451e-07, 5.17664281e-06, 2.00063371e-05,\n",
       "       8.59905646e-05, 2.74920343e-04, 4.59988253e-04, 6.87689325e-04,\n",
       "       1.24823214e-03, 2.11419081e-03, 4.12159758e-03, 4.76361866e-03,\n",
       "       3.07495070e-03, 2.88319555e-03, 4.02380876e-03, 3.55063082e-03,\n",
       "       4.32868894e-03, 3.51370031e-03, 3.71712723e-03, 3.17197804e-03,\n",
       "       2.94229813e-03, 1.52540423e-03, 1.26205989e-03, 7.77357155e-04,\n",
       "       5.34173215e-04, 1.26860655e-04, 2.34259163e-05, 1.06118707e-06,\n",
       "       0.00000000e+00, 3.56259012e-07, 8.77509883e-06, 2.65766920e-05,\n",
       "       9.49950978e-05, 1.98790000e-04, 3.87354233e-04, 1.13505074e-03,\n",
       "       1.54658761e-03, 3.27337131e-03, 4.31017481e-03, 5.35705181e-03,\n",
       "       3.27680263e-03, 3.05465662e-03, 3.23323646e-03, 3.39432599e-03,\n",
       "       3.83113751e-03, 4.16531480e-03, 3.76017529e-03, 3.11506104e-03,\n",
       "       2.71097086e-03, 1.66913439e-03, 9.64201431e-04, 4.25096438e-04,\n",
       "       2.50746019e-04, 6.54499711e-05, 1.49662178e-05, 7.31289943e-07,\n",
       "       0.00000000e+00, 9.10363100e-07, 5.30560378e-06, 1.46422371e-05,\n",
       "       1.00833149e-04, 2.26583313e-04, 6.55109168e-04, 1.21141427e-03,\n",
       "       2.06633257e-03, 3.55144961e-03, 6.05259131e-03, 4.92598560e-03,\n",
       "       3.29516972e-03, 3.24969549e-03, 5.55862422e-03, 4.69771424e-03,\n",
       "       3.34714411e-03, 3.59986035e-03, 4.73006245e-03, 3.37978540e-03,\n",
       "       1.96369929e-03, 2.73663003e-03, 1.63438479e-03, 5.66471004e-04,\n",
       "       1.53750198e-04, 3.32040223e-05, 1.31197370e-05, 1.43629771e-06,\n",
       "       0.00000000e+00, 6.36423562e-07, 4.71623028e-06, 1.93574674e-05,\n",
       "       7.48062723e-05, 2.79322549e-04, 8.08588724e-04, 1.86632970e-03,\n",
       "       1.92463794e-03, 4.94300102e-03, 6.80298950e-03, 6.44698525e-03,\n",
       "       4.56669517e-03, 4.38490804e-03, 7.54566505e-03, 5.25548717e-03,\n",
       "       3.86684543e-03, 4.03521799e-03, 4.25109414e-03, 2.80037404e-03,\n",
       "       1.54736699e-03, 1.23448084e-03, 2.08612182e-03, 3.89204427e-04,\n",
       "       1.34084866e-04, 2.15841084e-05, 7.72024431e-06, 2.67559768e-07,\n",
       "       0.00000000e+00, 0.00000000e+00, 6.62304811e-07, 2.21268416e-05,\n",
       "       8.65720083e-05, 3.64569183e-04, 1.12047239e-03, 2.34893229e-03,\n",
       "       3.47198603e-03, 4.39081433e-03, 4.96401655e-03, 5.42608930e-03,\n",
       "       4.62654754e-03, 7.29856588e-03, 8.90463395e-03, 4.92049266e-03,\n",
       "       3.84361181e-03, 7.11169956e-03, 3.72065338e-03, 1.76998575e-03,\n",
       "       1.09273246e-03, 1.55216168e-03, 2.16291270e-03, 5.53789660e-04,\n",
       "       1.61994732e-04, 2.31078661e-05, 8.98517573e-06, 1.33966330e-06,\n",
       "       0.00000000e+00, 0.00000000e+00, 2.16144072e-06, 1.83847236e-05,\n",
       "       1.10014992e-04, 4.31922907e-04, 1.38832754e-03, 2.45008199e-03,\n",
       "       4.02805239e-03, 4.87773863e-03, 4.40650257e-03, 4.11777202e-03,\n",
       "       5.09288981e-03, 6.19082460e-03, 8.34198808e-03, 4.13027491e-03,\n",
       "       3.69157319e-03, 7.31339777e-03, 3.65601006e-03, 1.57538348e-03,\n",
       "       1.19458184e-03, 1.19792104e-03, 2.56655412e-03, 5.13684315e-04,\n",
       "       1.96116334e-04, 3.15188692e-05, 7.15069291e-06, 0.00000000e+00,\n",
       "       0.00000000e+00, 0.00000000e+00, 2.77246633e-06, 1.79586684e-05,\n",
       "       1.05292929e-04, 6.02631949e-04, 1.34903143e-03, 3.87975194e-03,\n",
       "       3.55943948e-03, 4.86777730e-03, 6.19030586e-03, 4.94495463e-03,\n",
       "       5.30720659e-03, 8.40329300e-03, 4.10391522e-03, 4.03462794e-03,\n",
       "       3.62111962e-03, 5.19572040e-03, 4.26587560e-03, 1.70613013e-03,\n",
       "       1.42643325e-03, 2.98670565e-03, 1.22746582e-03, 4.02860407e-04,\n",
       "       1.60088701e-04, 6.63672920e-05, 1.08546577e-05, 3.66120200e-07,\n",
       "       0.00000000e+00, 0.00000000e+00, 5.95298284e-06, 2.01485888e-05,\n",
       "       1.07592495e-04, 5.97677102e-04, 1.57411785e-03, 2.49472309e-03,\n",
       "       4.42601395e-03, 4.08326960e-03, 4.06640062e-03, 3.76931363e-03,\n",
       "       6.42894884e-03, 7.09507573e-03, 5.11004963e-03, 2.96465451e-03,\n",
       "       2.74789155e-03, 3.93026573e-03, 2.14218613e-03, 2.05254885e-03,\n",
       "       1.47146965e-03, 1.63054890e-03, 5.92450750e-04, 3.82811723e-04,\n",
       "       2.04999540e-04, 5.74698726e-05, 1.89461086e-05, 2.76174431e-06,\n",
       "       0.00000000e+00, 3.49899393e-07, 2.61081471e-06, 3.88395052e-05,\n",
       "       1.43757465e-04, 5.05490628e-04, 1.56795480e-03, 2.57689540e-03,\n",
       "       2.59194835e-03, 3.93195304e-03, 5.00141569e-03, 5.68870495e-03,\n",
       "       6.42358315e-03, 6.01437713e-03, 3.96023674e-03, 3.23342789e-03,\n",
       "       1.85630369e-03, 2.46553375e-03, 2.03248546e-03, 1.73964501e-03,\n",
       "       1.27537183e-03, 1.55576944e-03, 5.37557880e-04, 3.96333345e-04,\n",
       "       2.03131383e-04, 6.68314222e-05, 1.52687276e-05, 2.78440621e-06,\n",
       "       0.00000000e+00, 0.00000000e+00, 4.86711080e-06, 5.90586703e-05,\n",
       "       2.24052622e-04, 5.31928418e-04, 1.54306347e-03, 1.58805973e-03,\n",
       "       4.05095482e-03, 3.64501625e-03, 5.32937563e-03, 6.22188746e-03,\n",
       "       4.79804037e-03, 3.85060498e-03, 2.72020201e-03, 1.78781404e-03,\n",
       "       1.52803080e-03, 2.02972713e-03, 2.73216680e-03, 2.02325877e-03,\n",
       "       1.33719351e-03, 7.94670776e-04, 6.96157967e-04, 3.22049928e-04,\n",
       "       2.42781773e-04, 3.60939227e-05, 8.09629713e-06, 9.08923844e-07,\n",
       "       0.00000000e+00, 1.37093228e-06, 3.66904269e-06, 8.24828246e-05,\n",
       "       2.30534967e-04, 6.31335739e-04, 1.60981777e-03, 3.14775476e-03,\n",
       "       2.83436363e-03, 5.87942206e-03, 7.31061856e-03, 5.24843519e-03,\n",
       "       3.61574602e-03, 2.15286613e-03, 2.37886598e-03, 1.24648042e-03,\n",
       "       1.33885253e-03, 3.22703828e-03, 2.39547380e-03, 2.78770688e-03,\n",
       "       1.42722997e-03, 1.55586004e-03, 6.56302470e-04, 4.06203763e-04,\n",
       "       1.63425927e-04, 2.18430887e-05, 4.58896821e-06, 3.49269227e-07,\n",
       "       0.00000000e+00, 6.87615225e-07, 8.57142229e-06, 5.03389880e-05,\n",
       "       2.84414582e-04, 5.43509400e-04, 1.83431220e-03, 3.29428365e-03,\n",
       "       4.77370046e-03, 3.95720999e-03, 4.03462388e-03, 3.46375375e-03,\n",
       "       2.58663818e-03, 2.20763880e-03, 1.89745962e-03, 1.75447541e-03,\n",
       "       1.70522509e-03, 2.11194385e-03, 1.58592988e-03, 1.84008370e-03,\n",
       "       1.83643056e-03, 1.08628147e-03, 6.24603339e-04, 2.92366189e-04,\n",
       "       1.05469221e-04, 1.72522274e-05, 4.37601088e-06, 0.00000000e+00,\n",
       "       0.00000000e+00, 0.00000000e+00, 5.83199547e-06, 3.76943556e-05,\n",
       "       2.04272557e-04, 4.60494208e-04, 1.24324393e-03, 2.89967644e-03,\n",
       "       5.44699910e-03, 4.36940724e-03, 3.11259335e-03, 1.67842794e-03,\n",
       "       1.81418679e-03, 1.55253620e-03, 1.43123935e-03, 1.12528232e-03,\n",
       "       1.05957224e-03, 1.46102338e-03, 1.43272254e-03, 1.37761952e-03,\n",
       "       8.87273272e-04, 4.96501740e-04, 2.96307595e-04, 1.28255847e-04,\n",
       "       6.80181374e-05, 9.74714114e-06, 2.60145835e-06, 0.00000000e+00,\n",
       "       0.00000000e+00, 0.00000000e+00, 6.55017734e-06, 3.98923923e-05,\n",
       "       9.75610292e-05, 2.57706756e-04, 5.37375485e-04, 1.61220627e-03,\n",
       "       3.07592059e-03, 2.98995335e-03, 2.45102950e-03, 2.12225897e-03,\n",
       "       1.85746188e-03, 1.73007631e-03, 1.74155606e-03, 1.42104351e-03,\n",
       "       1.17155654e-03, 1.02583546e-03, 1.00385286e-03, 6.23081599e-04,\n",
       "       4.91220721e-04, 2.85018742e-04, 2.51646989e-04, 7.89316587e-05,\n",
       "       2.24841497e-05, 5.52149967e-06, 1.24844798e-06, 0.00000000e+00,\n",
       "       0.00000000e+00, 0.00000000e+00, 1.44171785e-06, 2.13409331e-05,\n",
       "       6.44436165e-05, 1.52502826e-04, 4.09312986e-04, 9.11455982e-04,\n",
       "       1.13085222e-03, 2.17593703e-03, 2.51718775e-03, 5.06394146e-03,\n",
       "       4.44929036e-03, 4.70444016e-03, 3.98386706e-03, 2.45172134e-03,\n",
       "       1.71851901e-03, 9.59442669e-04, 7.56905461e-04, 4.01197306e-04,\n",
       "       2.54525946e-04, 1.25438620e-04, 6.14367889e-05, 2.65740672e-05,\n",
       "       1.14703261e-05, 5.56520329e-06, 3.61418082e-07, 0.00000000e+00,\n",
       "       0.00000000e+00, 0.00000000e+00, 3.69758082e-07, 1.62343031e-05,\n",
       "       4.03820922e-05, 1.10613230e-04, 2.25370672e-04, 3.81676784e-04,\n",
       "       5.79452883e-04, 7.72996273e-04, 1.05550039e-03, 1.29080754e-03,\n",
       "       1.51068985e-03, 1.73984057e-03, 1.11698457e-03, 8.37662408e-04,\n",
       "       5.40088052e-04, 4.92328784e-04, 3.34450711e-04, 2.16890303e-04,\n",
       "       1.75392915e-04, 1.01169074e-04, 3.89274918e-05, 1.67980086e-05,\n",
       "       6.67285737e-06, 3.85839753e-06, 7.37150169e-07, 0.00000000e+00,\n",
       "       0.00000000e+00, 0.00000000e+00, 0.00000000e+00, 1.78158501e-06,\n",
       "       1.71621984e-05, 4.89178303e-05, 1.58175231e-04, 1.71715738e-04,\n",
       "       4.66000094e-04, 8.57877860e-04, 6.67731120e-04, 8.79578549e-04,\n",
       "       1.65565778e-03, 5.92278658e-04, 9.50149676e-04, 4.55560178e-04,\n",
       "       4.76891657e-04, 3.92365963e-04, 4.57265624e-04, 1.78077759e-04,\n",
       "       9.06586278e-05, 4.49564504e-05, 1.58063479e-05, 1.17607276e-05,\n",
       "       1.00132280e-06, 0.00000000e+00, 3.63237994e-07, 0.00000000e+00,\n",
       "       0.00000000e+00, 0.00000000e+00, 0.00000000e+00, 0.00000000e+00,\n",
       "       4.28438338e-06, 1.84333567e-06, 1.09541735e-05, 5.24343139e-05,\n",
       "       6.49434964e-05, 9.21175917e-05, 9.01962905e-05, 1.04537053e-04,\n",
       "       1.87617197e-04, 2.65515113e-04, 1.17876034e-04, 2.62767449e-04,\n",
       "       7.43569257e-05, 1.23038474e-04, 1.31226590e-04, 3.41799050e-05,\n",
       "       1.69365870e-05, 7.97292254e-06, 1.20752084e-06, 2.25919200e-06,\n",
       "       1.30790114e-06, 0.00000000e+00, 0.00000000e+00, 0.00000000e+00,\n",
       "       0.00000000e+00, 0.00000000e+00, 0.00000000e+00, 0.00000000e+00,\n",
       "       0.00000000e+00, 0.00000000e+00, 3.67384217e-07, 2.47001000e-07,\n",
       "       1.28298986e-06, 2.58007138e-06, 1.21462856e-06, 1.93887222e-06,\n",
       "       7.88303310e-07, 4.60398866e-06, 4.32621111e-06, 1.00021274e-05,\n",
       "       1.16970588e-06, 3.13333753e-06, 6.26716734e-06, 3.02695959e-06,\n",
       "       2.25715081e-06, 1.67065289e-06, 1.76860508e-06, 0.00000000e+00,\n",
       "       0.00000000e+00, 0.00000000e+00, 0.00000000e+00, 0.00000000e+00])"
      ]
     },
     "execution_count": 6,
     "metadata": {},
     "output_type": "execute_result"
    }
   ],
   "source": [
    "rf.feature_importances_"
   ]
  },
  {
   "cell_type": "markdown",
   "id": "7396a2fa",
   "metadata": {},
   "source": [
    "## Shape of importance"
   ]
  },
  {
   "cell_type": "code",
   "execution_count": 7,
   "id": "e62b5d15",
   "metadata": {},
   "outputs": [
    {
     "data": {
      "text/plain": [
       "(784,)"
      ]
     },
     "execution_count": 7,
     "metadata": {},
     "output_type": "execute_result"
    }
   ],
   "source": [
    "rf.feature_importances_.shape"
   ]
  },
  {
   "cell_type": "markdown",
   "id": "5b9853f7",
   "metadata": {},
   "source": [
    "## Heatmap plot"
   ]
  },
  {
   "cell_type": "code",
   "execution_count": 8,
   "id": "f8f9d1cf",
   "metadata": {},
   "outputs": [
    {
     "data": {
      "text/plain": [
       "<Axes: >"
      ]
     },
     "execution_count": 8,
     "metadata": {},
     "output_type": "execute_result"
    },
    {
     "data": {
      "image/png": "[encoded data removed]",
      "text/plain": [
       "<Figure size 640x480 with 2 Axes>"
      ]
     },
     "metadata": {},
     "output_type": "display_data"
    }
   ],
   "source": [
    "sns.heatmap(rf.feature_importances_.reshape(28,28))"
   ]
  }
 ],
 "metadata": {
  "kernelspec": {
   "display_name": "Python 3 (ipykernel)",
   "language": "python",
   "name": "python3"
  },
  "language_info": {
   "codemirror_mode": {
    "name": "ipython",
    "version": 3
   },
   "file_extension": ".py",
   "mimetype": "text/x-python",
   "name": "python",
   "nbconvert_exporter": "python",
   "pygments_lexer": "ipython3",
   "version": "3.10.9"
  }
 },
 "nbformat": 4,
 "nbformat_minor": 5
}
